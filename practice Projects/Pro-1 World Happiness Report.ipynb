{
 "cells": [
  {
   "cell_type": "markdown",
   "id": "ff1b4167",
   "metadata": {},
   "source": [
    "# Project-1 World Happiness Record"
   ]
  },
  {
   "cell_type": "markdown",
   "id": "e28e1b89",
   "metadata": {},
   "source": [
    "## Importing  Libraries"
   ]
  },
  {
   "cell_type": "code",
   "execution_count": 1,
   "id": "82345f83",
   "metadata": {},
   "outputs": [],
   "source": [
    "import numpy as np \n",
    "import pandas as pd\n",
    "\n",
    "\n",
    "import warnings\n",
    "warnings.filterwarnings('ignore')\n"
   ]
  },
  {
   "cell_type": "markdown",
   "id": "8601791d",
   "metadata": {},
   "source": [
    "## Loading dataset"
   ]
  },
  {
   "cell_type": "code",
   "execution_count": 2,
   "id": "b98addbd",
   "metadata": {},
   "outputs": [
    {
     "data": {
      "text/html": [
       "<div>\n",
       "<style scoped>\n",
       "    .dataframe tbody tr th:only-of-type {\n",
       "        vertical-align: middle;\n",
       "    }\n",
       "\n",
       "    .dataframe tbody tr th {\n",
       "        vertical-align: top;\n",
       "    }\n",
       "\n",
       "    .dataframe thead th {\n",
       "        text-align: right;\n",
       "    }\n",
       "</style>\n",
       "<table border=\"1\" class=\"dataframe\">\n",
       "  <thead>\n",
       "    <tr style=\"text-align: right;\">\n",
       "      <th></th>\n",
       "      <th>Country</th>\n",
       "      <th>Region</th>\n",
       "      <th>Happiness Rank</th>\n",
       "      <th>Happiness Score</th>\n",
       "      <th>Standard Error</th>\n",
       "      <th>Economy (GDP per Capita)</th>\n",
       "      <th>Family</th>\n",
       "      <th>Health (Life Expectancy)</th>\n",
       "      <th>Freedom</th>\n",
       "      <th>Trust (Government Corruption)</th>\n",
       "      <th>Generosity</th>\n",
       "      <th>Dystopia Residual</th>\n",
       "    </tr>\n",
       "  </thead>\n",
       "  <tbody>\n",
       "    <tr>\n",
       "      <th>0</th>\n",
       "      <td>Switzerland</td>\n",
       "      <td>Western Europe</td>\n",
       "      <td>1</td>\n",
       "      <td>7.587</td>\n",
       "      <td>0.03411</td>\n",
       "      <td>1.39651</td>\n",
       "      <td>1.34951</td>\n",
       "      <td>0.94143</td>\n",
       "      <td>0.66557</td>\n",
       "      <td>0.41978</td>\n",
       "      <td>0.29678</td>\n",
       "      <td>2.51738</td>\n",
       "    </tr>\n",
       "    <tr>\n",
       "      <th>1</th>\n",
       "      <td>Iceland</td>\n",
       "      <td>Western Europe</td>\n",
       "      <td>2</td>\n",
       "      <td>7.561</td>\n",
       "      <td>0.04884</td>\n",
       "      <td>1.30232</td>\n",
       "      <td>1.40223</td>\n",
       "      <td>0.94784</td>\n",
       "      <td>0.62877</td>\n",
       "      <td>0.14145</td>\n",
       "      <td>0.43630</td>\n",
       "      <td>2.70201</td>\n",
       "    </tr>\n",
       "    <tr>\n",
       "      <th>2</th>\n",
       "      <td>Denmark</td>\n",
       "      <td>Western Europe</td>\n",
       "      <td>3</td>\n",
       "      <td>7.527</td>\n",
       "      <td>0.03328</td>\n",
       "      <td>1.32548</td>\n",
       "      <td>1.36058</td>\n",
       "      <td>0.87464</td>\n",
       "      <td>0.64938</td>\n",
       "      <td>0.48357</td>\n",
       "      <td>0.34139</td>\n",
       "      <td>2.49204</td>\n",
       "    </tr>\n",
       "    <tr>\n",
       "      <th>3</th>\n",
       "      <td>Norway</td>\n",
       "      <td>Western Europe</td>\n",
       "      <td>4</td>\n",
       "      <td>7.522</td>\n",
       "      <td>0.03880</td>\n",
       "      <td>1.45900</td>\n",
       "      <td>1.33095</td>\n",
       "      <td>0.88521</td>\n",
       "      <td>0.66973</td>\n",
       "      <td>0.36503</td>\n",
       "      <td>0.34699</td>\n",
       "      <td>2.46531</td>\n",
       "    </tr>\n",
       "    <tr>\n",
       "      <th>4</th>\n",
       "      <td>Canada</td>\n",
       "      <td>North America</td>\n",
       "      <td>5</td>\n",
       "      <td>7.427</td>\n",
       "      <td>0.03553</td>\n",
       "      <td>1.32629</td>\n",
       "      <td>1.32261</td>\n",
       "      <td>0.90563</td>\n",
       "      <td>0.63297</td>\n",
       "      <td>0.32957</td>\n",
       "      <td>0.45811</td>\n",
       "      <td>2.45176</td>\n",
       "    </tr>\n",
       "    <tr>\n",
       "      <th>...</th>\n",
       "      <td>...</td>\n",
       "      <td>...</td>\n",
       "      <td>...</td>\n",
       "      <td>...</td>\n",
       "      <td>...</td>\n",
       "      <td>...</td>\n",
       "      <td>...</td>\n",
       "      <td>...</td>\n",
       "      <td>...</td>\n",
       "      <td>...</td>\n",
       "      <td>...</td>\n",
       "      <td>...</td>\n",
       "    </tr>\n",
       "    <tr>\n",
       "      <th>153</th>\n",
       "      <td>Rwanda</td>\n",
       "      <td>Sub-Saharan Africa</td>\n",
       "      <td>154</td>\n",
       "      <td>3.465</td>\n",
       "      <td>0.03464</td>\n",
       "      <td>0.22208</td>\n",
       "      <td>0.77370</td>\n",
       "      <td>0.42864</td>\n",
       "      <td>0.59201</td>\n",
       "      <td>0.55191</td>\n",
       "      <td>0.22628</td>\n",
       "      <td>0.67042</td>\n",
       "    </tr>\n",
       "    <tr>\n",
       "      <th>154</th>\n",
       "      <td>Benin</td>\n",
       "      <td>Sub-Saharan Africa</td>\n",
       "      <td>155</td>\n",
       "      <td>3.340</td>\n",
       "      <td>0.03656</td>\n",
       "      <td>0.28665</td>\n",
       "      <td>0.35386</td>\n",
       "      <td>0.31910</td>\n",
       "      <td>0.48450</td>\n",
       "      <td>0.08010</td>\n",
       "      <td>0.18260</td>\n",
       "      <td>1.63328</td>\n",
       "    </tr>\n",
       "    <tr>\n",
       "      <th>155</th>\n",
       "      <td>Syria</td>\n",
       "      <td>Middle East and Northern Africa</td>\n",
       "      <td>156</td>\n",
       "      <td>3.006</td>\n",
       "      <td>0.05015</td>\n",
       "      <td>0.66320</td>\n",
       "      <td>0.47489</td>\n",
       "      <td>0.72193</td>\n",
       "      <td>0.15684</td>\n",
       "      <td>0.18906</td>\n",
       "      <td>0.47179</td>\n",
       "      <td>0.32858</td>\n",
       "    </tr>\n",
       "    <tr>\n",
       "      <th>156</th>\n",
       "      <td>Burundi</td>\n",
       "      <td>Sub-Saharan Africa</td>\n",
       "      <td>157</td>\n",
       "      <td>2.905</td>\n",
       "      <td>0.08658</td>\n",
       "      <td>0.01530</td>\n",
       "      <td>0.41587</td>\n",
       "      <td>0.22396</td>\n",
       "      <td>0.11850</td>\n",
       "      <td>0.10062</td>\n",
       "      <td>0.19727</td>\n",
       "      <td>1.83302</td>\n",
       "    </tr>\n",
       "    <tr>\n",
       "      <th>157</th>\n",
       "      <td>Togo</td>\n",
       "      <td>Sub-Saharan Africa</td>\n",
       "      <td>158</td>\n",
       "      <td>2.839</td>\n",
       "      <td>0.06727</td>\n",
       "      <td>0.20868</td>\n",
       "      <td>0.13995</td>\n",
       "      <td>0.28443</td>\n",
       "      <td>0.36453</td>\n",
       "      <td>0.10731</td>\n",
       "      <td>0.16681</td>\n",
       "      <td>1.56726</td>\n",
       "    </tr>\n",
       "  </tbody>\n",
       "</table>\n",
       "<p>158 rows × 12 columns</p>\n",
       "</div>"
      ],
      "text/plain": [
       "         Country                           Region  Happiness Rank  \\\n",
       "0    Switzerland                   Western Europe               1   \n",
       "1        Iceland                   Western Europe               2   \n",
       "2        Denmark                   Western Europe               3   \n",
       "3         Norway                   Western Europe               4   \n",
       "4         Canada                    North America               5   \n",
       "..           ...                              ...             ...   \n",
       "153       Rwanda               Sub-Saharan Africa             154   \n",
       "154        Benin               Sub-Saharan Africa             155   \n",
       "155        Syria  Middle East and Northern Africa             156   \n",
       "156      Burundi               Sub-Saharan Africa             157   \n",
       "157         Togo               Sub-Saharan Africa             158   \n",
       "\n",
       "     Happiness Score  Standard Error  Economy (GDP per Capita)   Family  \\\n",
       "0              7.587         0.03411                   1.39651  1.34951   \n",
       "1              7.561         0.04884                   1.30232  1.40223   \n",
       "2              7.527         0.03328                   1.32548  1.36058   \n",
       "3              7.522         0.03880                   1.45900  1.33095   \n",
       "4              7.427         0.03553                   1.32629  1.32261   \n",
       "..               ...             ...                       ...      ...   \n",
       "153            3.465         0.03464                   0.22208  0.77370   \n",
       "154            3.340         0.03656                   0.28665  0.35386   \n",
       "155            3.006         0.05015                   0.66320  0.47489   \n",
       "156            2.905         0.08658                   0.01530  0.41587   \n",
       "157            2.839         0.06727                   0.20868  0.13995   \n",
       "\n",
       "     Health (Life Expectancy)  Freedom  Trust (Government Corruption)  \\\n",
       "0                     0.94143  0.66557                        0.41978   \n",
       "1                     0.94784  0.62877                        0.14145   \n",
       "2                     0.87464  0.64938                        0.48357   \n",
       "3                     0.88521  0.66973                        0.36503   \n",
       "4                     0.90563  0.63297                        0.32957   \n",
       "..                        ...      ...                            ...   \n",
       "153                   0.42864  0.59201                        0.55191   \n",
       "154                   0.31910  0.48450                        0.08010   \n",
       "155                   0.72193  0.15684                        0.18906   \n",
       "156                   0.22396  0.11850                        0.10062   \n",
       "157                   0.28443  0.36453                        0.10731   \n",
       "\n",
       "     Generosity  Dystopia Residual  \n",
       "0       0.29678            2.51738  \n",
       "1       0.43630            2.70201  \n",
       "2       0.34139            2.49204  \n",
       "3       0.34699            2.46531  \n",
       "4       0.45811            2.45176  \n",
       "..          ...                ...  \n",
       "153     0.22628            0.67042  \n",
       "154     0.18260            1.63328  \n",
       "155     0.47179            0.32858  \n",
       "156     0.19727            1.83302  \n",
       "157     0.16681            1.56726  \n",
       "\n",
       "[158 rows x 12 columns]"
      ]
     },
     "execution_count": 2,
     "metadata": {},
     "output_type": "execute_result"
    }
   ],
   "source": [
    "df = pd.read_csv('https://raw.githubusercontent.com/dsrscientist/DSData/master/happiness_score_dataset.csv')\n",
    "df"
   ]
  },
  {
   "cell_type": "markdown",
   "id": "6007a5da",
   "metadata": {},
   "source": [
    "# Checking null values "
   ]
  },
  {
   "cell_type": "code",
   "execution_count": 3,
   "id": "cc84ce9c",
   "metadata": {},
   "outputs": [
    {
     "data": {
      "text/plain": [
       "Country                          0\n",
       "Region                           0\n",
       "Happiness Rank                   0\n",
       "Happiness Score                  0\n",
       "Standard Error                   0\n",
       "Economy (GDP per Capita)         0\n",
       "Family                           0\n",
       "Health (Life Expectancy)         0\n",
       "Freedom                          0\n",
       "Trust (Government Corruption)    0\n",
       "Generosity                       0\n",
       "Dystopia Residual                0\n",
       "dtype: int64"
      ]
     },
     "execution_count": 3,
     "metadata": {},
     "output_type": "execute_result"
    }
   ],
   "source": [
    "df.isnull().sum()"
   ]
  },
  {
   "cell_type": "markdown",
   "id": "11dabb7c",
   "metadata": {},
   "source": [
    "There are no null values"
   ]
  },
  {
   "cell_type": "code",
   "execution_count": 4,
   "id": "5ca97caa",
   "metadata": {},
   "outputs": [
    {
     "data": {
      "text/plain": [
       "Index(['Country', 'Region', 'Happiness Rank', 'Happiness Score',\n",
       "       'Standard Error', 'Economy (GDP per Capita)', 'Family',\n",
       "       'Health (Life Expectancy)', 'Freedom', 'Trust (Government Corruption)',\n",
       "       'Generosity', 'Dystopia Residual'],\n",
       "      dtype='object')"
      ]
     },
     "execution_count": 4,
     "metadata": {},
     "output_type": "execute_result"
    }
   ],
   "source": [
    "df.columns"
   ]
  },
  {
   "cell_type": "markdown",
   "id": "ba24e07e",
   "metadata": {},
   "source": [
    "# Problem Statement"
   ]
  },
  {
   "cell_type": "markdown",
   "id": "8ca719d4",
   "metadata": {},
   "source": [
    "The following columns: GDP per Capita, Family, Life Expectancy, Freedom, Generosity, Trust Government Corruption describe the extent to which these factors contribute in evaluating the happiness in each country.\n",
    "The Dystopia Residual metric actually is the Dystopia Happiness Score(1.85) + the Residual value or the unexplained value for each country.\n",
    "\n",
    "The Dystopia Residual is already provided in the dataset. \n",
    "\n",
    "If you add all these factors up, you get the happiness score so it might be un-reliable to model them to predict Happiness Scores.\n",
    "\n",
    "You need to predict the happiness score considering all the other factors mentioned in the dataset. "
   ]
  },
  {
   "cell_type": "markdown",
   "id": "4dd989a9",
   "metadata": {},
   "source": [
    "In the above dataset the target is predict the Happiness Score"
   ]
  },
  {
   "cell_type": "markdown",
   "id": "ccd18fbf",
   "metadata": {},
   "source": [
    "# Checking Data Types"
   ]
  },
  {
   "cell_type": "code",
   "execution_count": 5,
   "id": "130ee6d2",
   "metadata": {},
   "outputs": [
    {
     "data": {
      "text/plain": [
       "Country                           object\n",
       "Region                            object\n",
       "Happiness Rank                     int64\n",
       "Happiness Score                  float64\n",
       "Standard Error                   float64\n",
       "Economy (GDP per Capita)         float64\n",
       "Family                           float64\n",
       "Health (Life Expectancy)         float64\n",
       "Freedom                          float64\n",
       "Trust (Government Corruption)    float64\n",
       "Generosity                       float64\n",
       "Dystopia Residual                float64\n",
       "dtype: object"
      ]
     },
     "execution_count": 5,
     "metadata": {},
     "output_type": "execute_result"
    }
   ],
   "source": [
    "df.dtypes"
   ]
  },
  {
   "cell_type": "markdown",
   "id": "78f6f950",
   "metadata": {},
   "source": [
    "## Checking the distribution of the continuous value of the float type columns.  "
   ]
  },
  {
   "cell_type": "code",
   "execution_count": 6,
   "id": "eb574e3d",
   "metadata": {},
   "outputs": [],
   "source": [
    "df_visualization_continuous=df[['Happiness Score', 'Standard Error', 'Economy (GDP per Capita)', 'Family', 'Health (Life Expectancy)', 'Freedom', 'Trust (Government Corruption)', 'Generosity', 'Dystopia Residual']].copy()"
   ]
  },
  {
   "cell_type": "code",
   "execution_count": 7,
   "id": "519590aa",
   "metadata": {},
   "outputs": [
    {
     "data": {
      "text/plain": [
       "<AxesSubplot:xlabel='Happiness Score', ylabel='Density'>"
      ]
     },
     "execution_count": 7,
     "metadata": {},
     "output_type": "execute_result"
    },
    {
     "data": {
      "image/png": "[encoded data removed]",
      "text/plain": [
       "<Figure size 432x288 with 1 Axes>"
      ]
     },
     "metadata": {
      "needs_background": "light"
     },
     "output_type": "display_data"
    }
   ],
   "source": [
    "import seaborn as sns\n",
    "sns.distplot(df_visualization_continuous['Happiness Score'], kde=True)"
   ]
  },
  {
   "cell_type": "code",
   "execution_count": 8,
   "id": "42e492ac",
   "metadata": {},
   "outputs": [
    {
     "data": {
      "text/plain": [
       "<AxesSubplot:xlabel='Standard Error', ylabel='Density'>"
      ]
     },
     "execution_count": 8,
     "metadata": {},
     "output_type": "execute_result"
    },
    {
     "data": {
      "image/png": "[encoded data removed]",
      "text/plain": [
       "<Figure size 432x288 with 1 Axes>"
      ]
     },
     "metadata": {
      "needs_background": "light"
     },
     "output_type": "display_data"
    }
   ],
   "source": [
    "sns.distplot(df_visualization_continuous[\"Standard Error\"], kde=True)"
   ]
  },
  {
   "cell_type": "code",
   "execution_count": 9,
   "id": "f0fa8298",
   "metadata": {},
   "outputs": [
    {
     "data": {
      "text/plain": [
       "<AxesSubplot:xlabel='Economy (GDP per Capita)', ylabel='Density'>"
      ]
     },
     "execution_count": 9,
     "metadata": {},
     "output_type": "execute_result"
    },
    {
     "data": {
      "image/png": "[encoded data removed]",
      "text/plain": [
       "<Figure size 432x288 with 1 Axes>"
      ]
     },
     "metadata": {
      "needs_background": "light"
     },
     "output_type": "display_data"
    }
   ],
   "source": [
    "sns.distplot(df_visualization_continuous[\"Economy (GDP per Capita)\"], kde=True)"
   ]
  },
  {
   "cell_type": "code",
   "execution_count": 10,
   "id": "c15eeef9",
   "metadata": {},
   "outputs": [
    {
     "data": {
      "text/plain": [
       "<AxesSubplot:xlabel='Family', ylabel='Density'>"
      ]
     },
     "execution_count": 10,
     "metadata": {},
     "output_type": "execute_result"
    },
    {
     "data": {
      "image/png": "[encoded data removed]",
      "text/plain": [
       "<Figure size 432x288 with 1 Axes>"
      ]
     },
     "metadata": {
      "needs_background": "light"
     },
     "output_type": "display_data"
    }
   ],
   "source": [
    "sns.distplot(df_visualization_continuous[\"Family\"], kde=True)"
   ]
  },
  {
   "cell_type": "code",
   "execution_count": 11,
   "id": "748c39da",
   "metadata": {},
   "outputs": [
    {
     "data": {
      "text/plain": [
       "<AxesSubplot:xlabel='Health (Life Expectancy)', ylabel='Density'>"
      ]
     },
     "execution_count": 11,
     "metadata": {},
     "output_type": "execute_result"
    },
    {
     "data": {
      "image/png": "[encoded data removed]",
      "text/plain": [
       "<Figure size 432x288 with 1 Axes>"
      ]
     },
     "metadata": {
      "needs_background": "light"
     },
     "output_type": "display_data"
    }
   ],
   "source": [
    "sns.distplot(df_visualization_continuous[\"Health (Life Expectancy)\"], kde=True)"
   ]
  },
  {
   "cell_type": "code",
   "execution_count": 12,
   "id": "3310a622",
   "metadata": {},
   "outputs": [
    {
     "data": {
      "text/plain": [
       "<AxesSubplot:xlabel='Freedom', ylabel='Density'>"
      ]
     },
     "execution_count": 12,
     "metadata": {},
     "output_type": "execute_result"
    },
    {
     "data": {
      "image/png": "[encoded data removed]",
      "text/plain": [
       "<Figure size 432x288 with 1 Axes>"
      ]
     },
     "metadata": {
      "needs_background": "light"
     },
     "output_type": "display_data"
    }
   ],
   "source": [
    "sns.distplot(df_visualization_continuous[\"Freedom\"], kde=True)"
   ]
  },
  {
   "cell_type": "code",
   "execution_count": 13,
   "id": "61ec0d4c",
   "metadata": {},
   "outputs": [
    {
     "data": {
      "text/plain": [
       "<AxesSubplot:xlabel='Trust (Government Corruption)', ylabel='Density'>"
      ]
     },
     "execution_count": 13,
     "metadata": {},
     "output_type": "execute_result"
    },
    {
     "data": {
      "image/png": "[encoded data removed]",
      "text/plain": [
       "<Figure size 432x288 with 1 Axes>"
      ]
     },
     "metadata": {
      "needs_background": "light"
     },
     "output_type": "display_data"
    }
   ],
   "source": [
    "sns.distplot(df_visualization_continuous[\"Trust (Government Corruption)\"], kde=True)"
   ]
  },
  {
   "cell_type": "code",
   "execution_count": 14,
   "id": "00e3691e",
   "metadata": {},
   "outputs": [
    {
     "data": {
      "text/plain": [
       "<AxesSubplot:xlabel='Generosity', ylabel='Density'>"
      ]
     },
     "execution_count": 14,
     "metadata": {},
     "output_type": "execute_result"
    },
    {
     "data": {
      "image/png": "[encoded data removed]",
      "text/plain": [
       "<Figure size 432x288 with 1 Axes>"
      ]
     },
     "metadata": {
      "needs_background": "light"
     },
     "output_type": "display_data"
    }
   ],
   "source": [
    "sns.distplot(df_visualization_continuous[\"Generosity\"], kde=True)"
   ]
  },
  {
   "cell_type": "code",
   "execution_count": 15,
   "id": "9e626579",
   "metadata": {},
   "outputs": [
    {
     "data": {
      "text/plain": [
       "<AxesSubplot:xlabel='Dystopia Residual', ylabel='Density'>"
      ]
     },
     "execution_count": 15,
     "metadata": {},
     "output_type": "execute_result"
    },
    {
     "data": {
      "image/png": "[encoded data removed]",
      "text/plain": [
       "<Figure size 432x288 with 1 Axes>"
      ]
     },
     "metadata": {
      "needs_background": "light"
     },
     "output_type": "display_data"
    }
   ],
   "source": [
    "sns.distplot(df_visualization_continuous[\"Dystopia Residual\"], kde=True)"
   ]
  },
  {
   "cell_type": "markdown",
   "id": "ba9809d7",
   "metadata": {},
   "source": [
    "## EDA\n",
    "\n",
    "## Scatterplot: "
   ]
  },
  {
   "cell_type": "code",
   "execution_count": 16,
   "id": "783c6a0b",
   "metadata": {
    "scrolled": true
   },
   "outputs": [],
   "source": [
    "import seaborn as sns"
   ]
  },
  {
   "cell_type": "code",
   "execution_count": 17,
   "id": "607cb591",
   "metadata": {},
   "outputs": [
    {
     "data": {
      "text/plain": [
       "<AxesSubplot:xlabel='Economy (GDP per Capita)', ylabel='Happiness Score'>"
      ]
     },
     "execution_count": 17,
     "metadata": {},
     "output_type": "execute_result"
    },
    {
     "data": {
      "image/png": "[encoded data removed]",
      "text/plain": [
       "<Figure size 432x288 with 1 Axes>"
      ]
     },
     "metadata": {
      "needs_background": "light"
     },
     "output_type": "display_data"
    }
   ],
   "source": [
    "sns.scatterplot(x = 'Economy (GDP per Capita)', y = 'Happiness Score', data = df)"
   ]
  },
  {
   "cell_type": "code",
   "execution_count": 18,
   "id": "812b2bce",
   "metadata": {},
   "outputs": [
    {
     "data": {
      "text/plain": [
       "<AxesSubplot:xlabel='Family', ylabel='Happiness Score'>"
      ]
     },
     "execution_count": 18,
     "metadata": {},
     "output_type": "execute_result"
    },
    {
     "data": {
      "image/png": "[encoded data removed]",
      "text/plain": [
       "<Figure size 432x288 with 1 Axes>"
      ]
     },
     "metadata": {
      "needs_background": "light"
     },
     "output_type": "display_data"
    }
   ],
   "source": [
    "sns.scatterplot(x = 'Family', y = 'Happiness Score', data = df)"
   ]
  },
  {
   "cell_type": "code",
   "execution_count": 19,
   "id": "b197d8cb",
   "metadata": {},
   "outputs": [
    {
     "data": {
      "text/plain": [
       "<AxesSubplot:xlabel='Health (Life Expectancy)', ylabel='Happiness Score'>"
      ]
     },
     "execution_count": 19,
     "metadata": {},
     "output_type": "execute_result"
    },
    {
     "data": {
      "image/png": "[encoded data removed]",
      "text/plain": [
       "<Figure size 432x288 with 1 Axes>"
      ]
     },
     "metadata": {
      "needs_background": "light"
     },
     "output_type": "display_data"
    }
   ],
   "source": [
    "sns.scatterplot(x = 'Health (Life Expectancy)', y = 'Happiness Score', data = df)"
   ]
  },
  {
   "cell_type": "code",
   "execution_count": 20,
   "id": "12c1dd8a",
   "metadata": {},
   "outputs": [
    {
     "data": {
      "text/plain": [
       "<AxesSubplot:xlabel='Freedom', ylabel='Happiness Score'>"
      ]
     },
     "execution_count": 20,
     "metadata": {},
     "output_type": "execute_result"
    },
    {
     "data": {
      "image/png": "[encoded data removed]",
      "text/plain": [
       "<Figure size 432x288 with 1 Axes>"
      ]
     },
     "metadata": {
      "needs_background": "light"
     },
     "output_type": "display_data"
    }
   ],
   "source": [
    "sns.scatterplot(x = 'Freedom', y = 'Happiness Score', data = df)"
   ]
  },
  {
   "cell_type": "code",
   "execution_count": 21,
   "id": "e4408375",
   "metadata": {},
   "outputs": [
    {
     "data": {
      "text/plain": [
       "<AxesSubplot:xlabel='Trust (Government Corruption)', ylabel='Happiness Score'>"
      ]
     },
     "execution_count": 21,
     "metadata": {},
     "output_type": "execute_result"
    },
    {
     "data": {
      "image/png": "[encoded data removed]",
      "text/plain": [
       "<Figure size 432x288 with 1 Axes>"
      ]
     },
     "metadata": {
      "needs_background": "light"
     },
     "output_type": "display_data"
    }
   ],
   "source": [
    "sns.scatterplot(x = 'Trust (Government Corruption)', y = 'Happiness Score', data = df)"
   ]
  },
  {
   "cell_type": "code",
   "execution_count": 22,
   "id": "71dadd18",
   "metadata": {
    "scrolled": true
   },
   "outputs": [
    {
     "data": {
      "text/plain": [
       "<AxesSubplot:xlabel='Generosity', ylabel='Happiness Score'>"
      ]
     },
     "execution_count": 22,
     "metadata": {},
     "output_type": "execute_result"
    },
    {
     "data": {
      "image/png": "[encoded data removed]",
      "text/plain": [
       "<Figure size 432x288 with 1 Axes>"
      ]
     },
     "metadata": {
      "needs_background": "light"
     },
     "output_type": "display_data"
    }
   ],
   "source": [
    "sns.scatterplot(x = 'Generosity', y = 'Happiness Score', data = df)"
   ]
  },
  {
   "cell_type": "code",
   "execution_count": 23,
   "id": "bf01370a",
   "metadata": {
    "scrolled": true
   },
   "outputs": [
    {
     "data": {
      "text/plain": [
       "<AxesSubplot:xlabel='Dystopia Residual', ylabel='Happiness Score'>"
      ]
     },
     "execution_count": 23,
     "metadata": {},
     "output_type": "execute_result"
    },
    {
     "data": {
      "image/png": "[encoded data removed]",
      "text/plain": [
       "<Figure size 432x288 with 1 Axes>"
      ]
     },
     "metadata": {
      "needs_background": "light"
     },
     "output_type": "display_data"
    }
   ],
   "source": [
    "sns.scatterplot(x = 'Dystopia Residual', y = 'Happiness Score', data = df)"
   ]
  },
  {
   "cell_type": "markdown",
   "id": "690da390",
   "metadata": {},
   "source": [
    "# Encoding Dataframe"
   ]
  },
  {
   "cell_type": "code",
   "execution_count": 24,
   "id": "e1cec520",
   "metadata": {},
   "outputs": [],
   "source": [
    "from sklearn.preprocessing import OrdinalEncoder\n",
    "enc=OrdinalEncoder()"
   ]
  },
  {
   "cell_type": "code",
   "execution_count": 25,
   "id": "7605ee85",
   "metadata": {},
   "outputs": [],
   "source": [
    "for i in df.columns:\n",
    "    if df[i].dtypes==\"object\":\n",
    "        df[i]=enc.fit_transform(df[i].values.reshape(-1,1))"
   ]
  },
  {
   "cell_type": "code",
   "execution_count": 26,
   "id": "391c9279",
   "metadata": {},
   "outputs": [
    {
     "data": {
      "text/html": [
       "<div>\n",
       "<style scoped>\n",
       "    .dataframe tbody tr th:only-of-type {\n",
       "        vertical-align: middle;\n",
       "    }\n",
       "\n",
       "    .dataframe tbody tr th {\n",
       "        vertical-align: top;\n",
       "    }\n",
       "\n",
       "    .dataframe thead th {\n",
       "        text-align: right;\n",
       "    }\n",
       "</style>\n",
       "<table border=\"1\" class=\"dataframe\">\n",
       "  <thead>\n",
       "    <tr style=\"text-align: right;\">\n",
       "      <th></th>\n",
       "      <th>Country</th>\n",
       "      <th>Region</th>\n",
       "      <th>Happiness Rank</th>\n",
       "      <th>Happiness Score</th>\n",
       "      <th>Standard Error</th>\n",
       "      <th>Economy (GDP per Capita)</th>\n",
       "      <th>Family</th>\n",
       "      <th>Health (Life Expectancy)</th>\n",
       "      <th>Freedom</th>\n",
       "      <th>Trust (Government Corruption)</th>\n",
       "      <th>Generosity</th>\n",
       "      <th>Dystopia Residual</th>\n",
       "    </tr>\n",
       "  </thead>\n",
       "  <tbody>\n",
       "    <tr>\n",
       "      <th>0</th>\n",
       "      <td>135.0</td>\n",
       "      <td>9.0</td>\n",
       "      <td>1</td>\n",
       "      <td>7.587</td>\n",
       "      <td>0.03411</td>\n",
       "      <td>1.39651</td>\n",
       "      <td>1.34951</td>\n",
       "      <td>0.94143</td>\n",
       "      <td>0.66557</td>\n",
       "      <td>0.41978</td>\n",
       "      <td>0.29678</td>\n",
       "      <td>2.51738</td>\n",
       "    </tr>\n",
       "    <tr>\n",
       "      <th>1</th>\n",
       "      <td>58.0</td>\n",
       "      <td>9.0</td>\n",
       "      <td>2</td>\n",
       "      <td>7.561</td>\n",
       "      <td>0.04884</td>\n",
       "      <td>1.30232</td>\n",
       "      <td>1.40223</td>\n",
       "      <td>0.94784</td>\n",
       "      <td>0.62877</td>\n",
       "      <td>0.14145</td>\n",
       "      <td>0.43630</td>\n",
       "      <td>2.70201</td>\n",
       "    </tr>\n",
       "    <tr>\n",
       "      <th>2</th>\n",
       "      <td>37.0</td>\n",
       "      <td>9.0</td>\n",
       "      <td>3</td>\n",
       "      <td>7.527</td>\n",
       "      <td>0.03328</td>\n",
       "      <td>1.32548</td>\n",
       "      <td>1.36058</td>\n",
       "      <td>0.87464</td>\n",
       "      <td>0.64938</td>\n",
       "      <td>0.48357</td>\n",
       "      <td>0.34139</td>\n",
       "      <td>2.49204</td>\n",
       "    </tr>\n",
       "    <tr>\n",
       "      <th>3</th>\n",
       "      <td>105.0</td>\n",
       "      <td>9.0</td>\n",
       "      <td>4</td>\n",
       "      <td>7.522</td>\n",
       "      <td>0.03880</td>\n",
       "      <td>1.45900</td>\n",
       "      <td>1.33095</td>\n",
       "      <td>0.88521</td>\n",
       "      <td>0.66973</td>\n",
       "      <td>0.36503</td>\n",
       "      <td>0.34699</td>\n",
       "      <td>2.46531</td>\n",
       "    </tr>\n",
       "    <tr>\n",
       "      <th>4</th>\n",
       "      <td>24.0</td>\n",
       "      <td>5.0</td>\n",
       "      <td>5</td>\n",
       "      <td>7.427</td>\n",
       "      <td>0.03553</td>\n",
       "      <td>1.32629</td>\n",
       "      <td>1.32261</td>\n",
       "      <td>0.90563</td>\n",
       "      <td>0.63297</td>\n",
       "      <td>0.32957</td>\n",
       "      <td>0.45811</td>\n",
       "      <td>2.45176</td>\n",
       "    </tr>\n",
       "    <tr>\n",
       "      <th>...</th>\n",
       "      <td>...</td>\n",
       "      <td>...</td>\n",
       "      <td>...</td>\n",
       "      <td>...</td>\n",
       "      <td>...</td>\n",
       "      <td>...</td>\n",
       "      <td>...</td>\n",
       "      <td>...</td>\n",
       "      <td>...</td>\n",
       "      <td>...</td>\n",
       "      <td>...</td>\n",
       "      <td>...</td>\n",
       "    </tr>\n",
       "    <tr>\n",
       "      <th>153</th>\n",
       "      <td>118.0</td>\n",
       "      <td>8.0</td>\n",
       "      <td>154</td>\n",
       "      <td>3.465</td>\n",
       "      <td>0.03464</td>\n",
       "      <td>0.22208</td>\n",
       "      <td>0.77370</td>\n",
       "      <td>0.42864</td>\n",
       "      <td>0.59201</td>\n",
       "      <td>0.55191</td>\n",
       "      <td>0.22628</td>\n",
       "      <td>0.67042</td>\n",
       "    </tr>\n",
       "    <tr>\n",
       "      <th>154</th>\n",
       "      <td>13.0</td>\n",
       "      <td>8.0</td>\n",
       "      <td>155</td>\n",
       "      <td>3.340</td>\n",
       "      <td>0.03656</td>\n",
       "      <td>0.28665</td>\n",
       "      <td>0.35386</td>\n",
       "      <td>0.31910</td>\n",
       "      <td>0.48450</td>\n",
       "      <td>0.08010</td>\n",
       "      <td>0.18260</td>\n",
       "      <td>1.63328</td>\n",
       "    </tr>\n",
       "    <tr>\n",
       "      <th>155</th>\n",
       "      <td>136.0</td>\n",
       "      <td>4.0</td>\n",
       "      <td>156</td>\n",
       "      <td>3.006</td>\n",
       "      <td>0.05015</td>\n",
       "      <td>0.66320</td>\n",
       "      <td>0.47489</td>\n",
       "      <td>0.72193</td>\n",
       "      <td>0.15684</td>\n",
       "      <td>0.18906</td>\n",
       "      <td>0.47179</td>\n",
       "      <td>0.32858</td>\n",
       "    </tr>\n",
       "    <tr>\n",
       "      <th>156</th>\n",
       "      <td>21.0</td>\n",
       "      <td>8.0</td>\n",
       "      <td>157</td>\n",
       "      <td>2.905</td>\n",
       "      <td>0.08658</td>\n",
       "      <td>0.01530</td>\n",
       "      <td>0.41587</td>\n",
       "      <td>0.22396</td>\n",
       "      <td>0.11850</td>\n",
       "      <td>0.10062</td>\n",
       "      <td>0.19727</td>\n",
       "      <td>1.83302</td>\n",
       "    </tr>\n",
       "    <tr>\n",
       "      <th>157</th>\n",
       "      <td>141.0</td>\n",
       "      <td>8.0</td>\n",
       "      <td>158</td>\n",
       "      <td>2.839</td>\n",
       "      <td>0.06727</td>\n",
       "      <td>0.20868</td>\n",
       "      <td>0.13995</td>\n",
       "      <td>0.28443</td>\n",
       "      <td>0.36453</td>\n",
       "      <td>0.10731</td>\n",
       "      <td>0.16681</td>\n",
       "      <td>1.56726</td>\n",
       "    </tr>\n",
       "  </tbody>\n",
       "</table>\n",
       "<p>158 rows × 12 columns</p>\n",
       "</div>"
      ],
      "text/plain": [
       "     Country  Region  Happiness Rank  Happiness Score  Standard Error  \\\n",
       "0      135.0     9.0               1            7.587         0.03411   \n",
       "1       58.0     9.0               2            7.561         0.04884   \n",
       "2       37.0     9.0               3            7.527         0.03328   \n",
       "3      105.0     9.0               4            7.522         0.03880   \n",
       "4       24.0     5.0               5            7.427         0.03553   \n",
       "..       ...     ...             ...              ...             ...   \n",
       "153    118.0     8.0             154            3.465         0.03464   \n",
       "154     13.0     8.0             155            3.340         0.03656   \n",
       "155    136.0     4.0             156            3.006         0.05015   \n",
       "156     21.0     8.0             157            2.905         0.08658   \n",
       "157    141.0     8.0             158            2.839         0.06727   \n",
       "\n",
       "     Economy (GDP per Capita)   Family  Health (Life Expectancy)  Freedom  \\\n",
       "0                     1.39651  1.34951                   0.94143  0.66557   \n",
       "1                     1.30232  1.40223                   0.94784  0.62877   \n",
       "2                     1.32548  1.36058                   0.87464  0.64938   \n",
       "3                     1.45900  1.33095                   0.88521  0.66973   \n",
       "4                     1.32629  1.32261                   0.90563  0.63297   \n",
       "..                        ...      ...                       ...      ...   \n",
       "153                   0.22208  0.77370                   0.42864  0.59201   \n",
       "154                   0.28665  0.35386                   0.31910  0.48450   \n",
       "155                   0.66320  0.47489                   0.72193  0.15684   \n",
       "156                   0.01530  0.41587                   0.22396  0.11850   \n",
       "157                   0.20868  0.13995                   0.28443  0.36453   \n",
       "\n",
       "     Trust (Government Corruption)  Generosity  Dystopia Residual  \n",
       "0                          0.41978     0.29678            2.51738  \n",
       "1                          0.14145     0.43630            2.70201  \n",
       "2                          0.48357     0.34139            2.49204  \n",
       "3                          0.36503     0.34699            2.46531  \n",
       "4                          0.32957     0.45811            2.45176  \n",
       "..                             ...         ...                ...  \n",
       "153                        0.55191     0.22628            0.67042  \n",
       "154                        0.08010     0.18260            1.63328  \n",
       "155                        0.18906     0.47179            0.32858  \n",
       "156                        0.10062     0.19727            1.83302  \n",
       "157                        0.10731     0.16681            1.56726  \n",
       "\n",
       "[158 rows x 12 columns]"
      ]
     },
     "execution_count": 26,
     "metadata": {},
     "output_type": "execute_result"
    }
   ],
   "source": [
    "df"
   ]
  },
  {
   "cell_type": "code",
   "execution_count": null,
   "id": "ad555642",
   "metadata": {},
   "outputs": [],
   "source": []
  },
  {
   "cell_type": "markdown",
   "id": "e51db6bb",
   "metadata": {},
   "source": [
    "## Decribing Datasets: "
   ]
  },
  {
   "cell_type": "code",
   "execution_count": 27,
   "id": "7696fe82",
   "metadata": {},
   "outputs": [
    {
     "data": {
      "text/html": [
       "<div>\n",
       "<style scoped>\n",
       "    .dataframe tbody tr th:only-of-type {\n",
       "        vertical-align: middle;\n",
       "    }\n",
       "\n",
       "    .dataframe tbody tr th {\n",
       "        vertical-align: top;\n",
       "    }\n",
       "\n",
       "    .dataframe thead th {\n",
       "        text-align: right;\n",
       "    }\n",
       "</style>\n",
       "<table border=\"1\" class=\"dataframe\">\n",
       "  <thead>\n",
       "    <tr style=\"text-align: right;\">\n",
       "      <th></th>\n",
       "      <th>Country</th>\n",
       "      <th>Region</th>\n",
       "      <th>Happiness Rank</th>\n",
       "      <th>Happiness Score</th>\n",
       "      <th>Standard Error</th>\n",
       "      <th>Economy (GDP per Capita)</th>\n",
       "      <th>Family</th>\n",
       "      <th>Health (Life Expectancy)</th>\n",
       "      <th>Freedom</th>\n",
       "      <th>Trust (Government Corruption)</th>\n",
       "      <th>Generosity</th>\n",
       "      <th>Dystopia Residual</th>\n",
       "    </tr>\n",
       "  </thead>\n",
       "  <tbody>\n",
       "    <tr>\n",
       "      <th>count</th>\n",
       "      <td>158.000000</td>\n",
       "      <td>158.000000</td>\n",
       "      <td>158.000000</td>\n",
       "      <td>158.000000</td>\n",
       "      <td>158.000000</td>\n",
       "      <td>158.000000</td>\n",
       "      <td>158.000000</td>\n",
       "      <td>158.000000</td>\n",
       "      <td>158.000000</td>\n",
       "      <td>158.000000</td>\n",
       "      <td>158.000000</td>\n",
       "      <td>158.000000</td>\n",
       "    </tr>\n",
       "    <tr>\n",
       "      <th>mean</th>\n",
       "      <td>78.500000</td>\n",
       "      <td>5.120253</td>\n",
       "      <td>79.493671</td>\n",
       "      <td>5.375734</td>\n",
       "      <td>0.047885</td>\n",
       "      <td>0.846137</td>\n",
       "      <td>0.991046</td>\n",
       "      <td>0.630259</td>\n",
       "      <td>0.428615</td>\n",
       "      <td>0.143422</td>\n",
       "      <td>0.237296</td>\n",
       "      <td>2.098977</td>\n",
       "    </tr>\n",
       "    <tr>\n",
       "      <th>std</th>\n",
       "      <td>45.754781</td>\n",
       "      <td>2.993321</td>\n",
       "      <td>45.754363</td>\n",
       "      <td>1.145010</td>\n",
       "      <td>0.017146</td>\n",
       "      <td>0.403121</td>\n",
       "      <td>0.272369</td>\n",
       "      <td>0.247078</td>\n",
       "      <td>0.150693</td>\n",
       "      <td>0.120034</td>\n",
       "      <td>0.126685</td>\n",
       "      <td>0.553550</td>\n",
       "    </tr>\n",
       "    <tr>\n",
       "      <th>min</th>\n",
       "      <td>0.000000</td>\n",
       "      <td>0.000000</td>\n",
       "      <td>1.000000</td>\n",
       "      <td>2.839000</td>\n",
       "      <td>0.018480</td>\n",
       "      <td>0.000000</td>\n",
       "      <td>0.000000</td>\n",
       "      <td>0.000000</td>\n",
       "      <td>0.000000</td>\n",
       "      <td>0.000000</td>\n",
       "      <td>0.000000</td>\n",
       "      <td>0.328580</td>\n",
       "    </tr>\n",
       "    <tr>\n",
       "      <th>25%</th>\n",
       "      <td>39.250000</td>\n",
       "      <td>3.000000</td>\n",
       "      <td>40.250000</td>\n",
       "      <td>4.526000</td>\n",
       "      <td>0.037268</td>\n",
       "      <td>0.545808</td>\n",
       "      <td>0.856823</td>\n",
       "      <td>0.439185</td>\n",
       "      <td>0.328330</td>\n",
       "      <td>0.061675</td>\n",
       "      <td>0.150553</td>\n",
       "      <td>1.759410</td>\n",
       "    </tr>\n",
       "    <tr>\n",
       "      <th>50%</th>\n",
       "      <td>78.500000</td>\n",
       "      <td>4.500000</td>\n",
       "      <td>79.500000</td>\n",
       "      <td>5.232500</td>\n",
       "      <td>0.043940</td>\n",
       "      <td>0.910245</td>\n",
       "      <td>1.029510</td>\n",
       "      <td>0.696705</td>\n",
       "      <td>0.435515</td>\n",
       "      <td>0.107220</td>\n",
       "      <td>0.216130</td>\n",
       "      <td>2.095415</td>\n",
       "    </tr>\n",
       "    <tr>\n",
       "      <th>75%</th>\n",
       "      <td>117.750000</td>\n",
       "      <td>8.000000</td>\n",
       "      <td>118.750000</td>\n",
       "      <td>6.243750</td>\n",
       "      <td>0.052300</td>\n",
       "      <td>1.158448</td>\n",
       "      <td>1.214405</td>\n",
       "      <td>0.811013</td>\n",
       "      <td>0.549092</td>\n",
       "      <td>0.180255</td>\n",
       "      <td>0.309883</td>\n",
       "      <td>2.462415</td>\n",
       "    </tr>\n",
       "    <tr>\n",
       "      <th>max</th>\n",
       "      <td>157.000000</td>\n",
       "      <td>9.000000</td>\n",
       "      <td>158.000000</td>\n",
       "      <td>7.587000</td>\n",
       "      <td>0.136930</td>\n",
       "      <td>1.690420</td>\n",
       "      <td>1.402230</td>\n",
       "      <td>1.025250</td>\n",
       "      <td>0.669730</td>\n",
       "      <td>0.551910</td>\n",
       "      <td>0.795880</td>\n",
       "      <td>3.602140</td>\n",
       "    </tr>\n",
       "  </tbody>\n",
       "</table>\n",
       "</div>"
      ],
      "text/plain": [
       "          Country      Region  Happiness Rank  Happiness Score  \\\n",
       "count  158.000000  158.000000      158.000000       158.000000   \n",
       "mean    78.500000    5.120253       79.493671         5.375734   \n",
       "std     45.754781    2.993321       45.754363         1.145010   \n",
       "min      0.000000    0.000000        1.000000         2.839000   \n",
       "25%     39.250000    3.000000       40.250000         4.526000   \n",
       "50%     78.500000    4.500000       79.500000         5.232500   \n",
       "75%    117.750000    8.000000      118.750000         6.243750   \n",
       "max    157.000000    9.000000      158.000000         7.587000   \n",
       "\n",
       "       Standard Error  Economy (GDP per Capita)      Family  \\\n",
       "count      158.000000                158.000000  158.000000   \n",
       "mean         0.047885                  0.846137    0.991046   \n",
       "std          0.017146                  0.403121    0.272369   \n",
       "min          0.018480                  0.000000    0.000000   \n",
       "25%          0.037268                  0.545808    0.856823   \n",
       "50%          0.043940                  0.910245    1.029510   \n",
       "75%          0.052300                  1.158448    1.214405   \n",
       "max          0.136930                  1.690420    1.402230   \n",
       "\n",
       "       Health (Life Expectancy)     Freedom  Trust (Government Corruption)  \\\n",
       "count                158.000000  158.000000                     158.000000   \n",
       "mean                   0.630259    0.428615                       0.143422   \n",
       "std                    0.247078    0.150693                       0.120034   \n",
       "min                    0.000000    0.000000                       0.000000   \n",
       "25%                    0.439185    0.328330                       0.061675   \n",
       "50%                    0.696705    0.435515                       0.107220   \n",
       "75%                    0.811013    0.549092                       0.180255   \n",
       "max                    1.025250    0.669730                       0.551910   \n",
       "\n",
       "       Generosity  Dystopia Residual  \n",
       "count  158.000000         158.000000  \n",
       "mean     0.237296           2.098977  \n",
       "std      0.126685           0.553550  \n",
       "min      0.000000           0.328580  \n",
       "25%      0.150553           1.759410  \n",
       "50%      0.216130           2.095415  \n",
       "75%      0.309883           2.462415  \n",
       "max      0.795880           3.602140  "
      ]
     },
     "execution_count": 27,
     "metadata": {},
     "output_type": "execute_result"
    }
   ],
   "source": [
    "df.describe()"
   ]
  },
  {
   "cell_type": "code",
   "execution_count": 28,
   "id": "dfad4d71",
   "metadata": {},
   "outputs": [
    {
     "data": {
      "text/plain": [
       "<AxesSubplot:>"
      ]
     },
     "execution_count": 28,
     "metadata": {},
     "output_type": "execute_result"
    },
    {
     "data": {
      "image/png": "[encoded data removed]",
      "text/plain": [
       "<Figure size 1584x504 with 2 Axes>"
      ]
     },
     "metadata": {
      "needs_background": "light"
     },
     "output_type": "display_data"
    }
   ],
   "source": [
    "import matplotlib.pyplot as plt\n",
    "plt.figure(figsize=(22,7))\n",
    "sns.heatmap(df.describe(), annot=True, linewidth=0.1 ,linecolor=\"black\", fmt=\"0.2f\")"
   ]
  },
  {
   "cell_type": "markdown",
   "id": "3c0581fb",
   "metadata": {},
   "source": [
    "# Correlation"
   ]
  },
  {
   "cell_type": "code",
   "execution_count": 29,
   "id": "a1129234",
   "metadata": {},
   "outputs": [
    {
     "data": {
      "text/html": [
       "<div>\n",
       "<style scoped>\n",
       "    .dataframe tbody tr th:only-of-type {\n",
       "        vertical-align: middle;\n",
       "    }\n",
       "\n",
       "    .dataframe tbody tr th {\n",
       "        vertical-align: top;\n",
       "    }\n",
       "\n",
       "    .dataframe thead th {\n",
       "        text-align: right;\n",
       "    }\n",
       "</style>\n",
       "<table border=\"1\" class=\"dataframe\">\n",
       "  <thead>\n",
       "    <tr style=\"text-align: right;\">\n",
       "      <th></th>\n",
       "      <th>Country</th>\n",
       "      <th>Region</th>\n",
       "      <th>Happiness Rank</th>\n",
       "      <th>Happiness Score</th>\n",
       "      <th>Standard Error</th>\n",
       "      <th>Economy (GDP per Capita)</th>\n",
       "      <th>Family</th>\n",
       "      <th>Health (Life Expectancy)</th>\n",
       "      <th>Freedom</th>\n",
       "      <th>Trust (Government Corruption)</th>\n",
       "      <th>Generosity</th>\n",
       "      <th>Dystopia Residual</th>\n",
       "    </tr>\n",
       "  </thead>\n",
       "  <tbody>\n",
       "    <tr>\n",
       "      <th>Country</th>\n",
       "      <td>1.000000</td>\n",
       "      <td>0.005092</td>\n",
       "      <td>-0.098538</td>\n",
       "      <td>0.083380</td>\n",
       "      <td>0.033879</td>\n",
       "      <td>0.037808</td>\n",
       "      <td>0.159416</td>\n",
       "      <td>0.037829</td>\n",
       "      <td>0.085684</td>\n",
       "      <td>0.088155</td>\n",
       "      <td>0.118085</td>\n",
       "      <td>-0.019778</td>\n",
       "    </tr>\n",
       "    <tr>\n",
       "      <th>Region</th>\n",
       "      <td>0.005092</td>\n",
       "      <td>1.000000</td>\n",
       "      <td>0.213773</td>\n",
       "      <td>-0.176791</td>\n",
       "      <td>-0.022600</td>\n",
       "      <td>-0.260139</td>\n",
       "      <td>-0.168533</td>\n",
       "      <td>-0.357508</td>\n",
       "      <td>0.092567</td>\n",
       "      <td>0.165040</td>\n",
       "      <td>0.273557</td>\n",
       "      <td>-0.057276</td>\n",
       "    </tr>\n",
       "    <tr>\n",
       "      <th>Happiness Rank</th>\n",
       "      <td>-0.098538</td>\n",
       "      <td>0.213773</td>\n",
       "      <td>1.000000</td>\n",
       "      <td>-0.992105</td>\n",
       "      <td>0.158516</td>\n",
       "      <td>-0.785267</td>\n",
       "      <td>-0.733644</td>\n",
       "      <td>-0.735613</td>\n",
       "      <td>-0.556886</td>\n",
       "      <td>-0.372315</td>\n",
       "      <td>-0.160142</td>\n",
       "      <td>-0.521999</td>\n",
       "    </tr>\n",
       "    <tr>\n",
       "      <th>Happiness Score</th>\n",
       "      <td>0.083380</td>\n",
       "      <td>-0.176791</td>\n",
       "      <td>-0.992105</td>\n",
       "      <td>1.000000</td>\n",
       "      <td>-0.177254</td>\n",
       "      <td>0.780966</td>\n",
       "      <td>0.740605</td>\n",
       "      <td>0.724200</td>\n",
       "      <td>0.568211</td>\n",
       "      <td>0.395199</td>\n",
       "      <td>0.180319</td>\n",
       "      <td>0.530474</td>\n",
       "    </tr>\n",
       "    <tr>\n",
       "      <th>Standard Error</th>\n",
       "      <td>0.033879</td>\n",
       "      <td>-0.022600</td>\n",
       "      <td>0.158516</td>\n",
       "      <td>-0.177254</td>\n",
       "      <td>1.000000</td>\n",
       "      <td>-0.217651</td>\n",
       "      <td>-0.120728</td>\n",
       "      <td>-0.310287</td>\n",
       "      <td>-0.129773</td>\n",
       "      <td>-0.178325</td>\n",
       "      <td>-0.088439</td>\n",
       "      <td>0.083981</td>\n",
       "    </tr>\n",
       "    <tr>\n",
       "      <th>Economy (GDP per Capita)</th>\n",
       "      <td>0.037808</td>\n",
       "      <td>-0.260139</td>\n",
       "      <td>-0.785267</td>\n",
       "      <td>0.780966</td>\n",
       "      <td>-0.217651</td>\n",
       "      <td>1.000000</td>\n",
       "      <td>0.645299</td>\n",
       "      <td>0.816478</td>\n",
       "      <td>0.370300</td>\n",
       "      <td>0.307885</td>\n",
       "      <td>-0.010465</td>\n",
       "      <td>0.040059</td>\n",
       "    </tr>\n",
       "    <tr>\n",
       "      <th>Family</th>\n",
       "      <td>0.159416</td>\n",
       "      <td>-0.168533</td>\n",
       "      <td>-0.733644</td>\n",
       "      <td>0.740605</td>\n",
       "      <td>-0.120728</td>\n",
       "      <td>0.645299</td>\n",
       "      <td>1.000000</td>\n",
       "      <td>0.531104</td>\n",
       "      <td>0.441518</td>\n",
       "      <td>0.205605</td>\n",
       "      <td>0.087513</td>\n",
       "      <td>0.148117</td>\n",
       "    </tr>\n",
       "    <tr>\n",
       "      <th>Health (Life Expectancy)</th>\n",
       "      <td>0.037829</td>\n",
       "      <td>-0.357508</td>\n",
       "      <td>-0.735613</td>\n",
       "      <td>0.724200</td>\n",
       "      <td>-0.310287</td>\n",
       "      <td>0.816478</td>\n",
       "      <td>0.531104</td>\n",
       "      <td>1.000000</td>\n",
       "      <td>0.360477</td>\n",
       "      <td>0.248335</td>\n",
       "      <td>0.108335</td>\n",
       "      <td>0.018979</td>\n",
       "    </tr>\n",
       "    <tr>\n",
       "      <th>Freedom</th>\n",
       "      <td>0.085684</td>\n",
       "      <td>0.092567</td>\n",
       "      <td>-0.556886</td>\n",
       "      <td>0.568211</td>\n",
       "      <td>-0.129773</td>\n",
       "      <td>0.370300</td>\n",
       "      <td>0.441518</td>\n",
       "      <td>0.360477</td>\n",
       "      <td>1.000000</td>\n",
       "      <td>0.493524</td>\n",
       "      <td>0.373916</td>\n",
       "      <td>0.062783</td>\n",
       "    </tr>\n",
       "    <tr>\n",
       "      <th>Trust (Government Corruption)</th>\n",
       "      <td>0.088155</td>\n",
       "      <td>0.165040</td>\n",
       "      <td>-0.372315</td>\n",
       "      <td>0.395199</td>\n",
       "      <td>-0.178325</td>\n",
       "      <td>0.307885</td>\n",
       "      <td>0.205605</td>\n",
       "      <td>0.248335</td>\n",
       "      <td>0.493524</td>\n",
       "      <td>1.000000</td>\n",
       "      <td>0.276123</td>\n",
       "      <td>-0.033105</td>\n",
       "    </tr>\n",
       "    <tr>\n",
       "      <th>Generosity</th>\n",
       "      <td>0.118085</td>\n",
       "      <td>0.273557</td>\n",
       "      <td>-0.160142</td>\n",
       "      <td>0.180319</td>\n",
       "      <td>-0.088439</td>\n",
       "      <td>-0.010465</td>\n",
       "      <td>0.087513</td>\n",
       "      <td>0.108335</td>\n",
       "      <td>0.373916</td>\n",
       "      <td>0.276123</td>\n",
       "      <td>1.000000</td>\n",
       "      <td>-0.101301</td>\n",
       "    </tr>\n",
       "    <tr>\n",
       "      <th>Dystopia Residual</th>\n",
       "      <td>-0.019778</td>\n",
       "      <td>-0.057276</td>\n",
       "      <td>-0.521999</td>\n",
       "      <td>0.530474</td>\n",
       "      <td>0.083981</td>\n",
       "      <td>0.040059</td>\n",
       "      <td>0.148117</td>\n",
       "      <td>0.018979</td>\n",
       "      <td>0.062783</td>\n",
       "      <td>-0.033105</td>\n",
       "      <td>-0.101301</td>\n",
       "      <td>1.000000</td>\n",
       "    </tr>\n",
       "  </tbody>\n",
       "</table>\n",
       "</div>"
      ],
      "text/plain": [
       "                                Country    Region  Happiness Rank  \\\n",
       "Country                        1.000000  0.005092       -0.098538   \n",
       "Region                         0.005092  1.000000        0.213773   \n",
       "Happiness Rank                -0.098538  0.213773        1.000000   \n",
       "Happiness Score                0.083380 -0.176791       -0.992105   \n",
       "Standard Error                 0.033879 -0.022600        0.158516   \n",
       "Economy (GDP per Capita)       0.037808 -0.260139       -0.785267   \n",
       "Family                         0.159416 -0.168533       -0.733644   \n",
       "Health (Life Expectancy)       0.037829 -0.357508       -0.735613   \n",
       "Freedom                        0.085684  0.092567       -0.556886   \n",
       "Trust (Government Corruption)  0.088155  0.165040       -0.372315   \n",
       "Generosity                     0.118085  0.273557       -0.160142   \n",
       "Dystopia Residual             -0.019778 -0.057276       -0.521999   \n",
       "\n",
       "                               Happiness Score  Standard Error  \\\n",
       "Country                               0.083380        0.033879   \n",
       "Region                               -0.176791       -0.022600   \n",
       "Happiness Rank                       -0.992105        0.158516   \n",
       "Happiness Score                       1.000000       -0.177254   \n",
       "Standard Error                       -0.177254        1.000000   \n",
       "Economy (GDP per Capita)              0.780966       -0.217651   \n",
       "Family                                0.740605       -0.120728   \n",
       "Health (Life Expectancy)              0.724200       -0.310287   \n",
       "Freedom                               0.568211       -0.129773   \n",
       "Trust (Government Corruption)         0.395199       -0.178325   \n",
       "Generosity                            0.180319       -0.088439   \n",
       "Dystopia Residual                     0.530474        0.083981   \n",
       "\n",
       "                               Economy (GDP per Capita)    Family  \\\n",
       "Country                                        0.037808  0.159416   \n",
       "Region                                        -0.260139 -0.168533   \n",
       "Happiness Rank                                -0.785267 -0.733644   \n",
       "Happiness Score                                0.780966  0.740605   \n",
       "Standard Error                                -0.217651 -0.120728   \n",
       "Economy (GDP per Capita)                       1.000000  0.645299   \n",
       "Family                                         0.645299  1.000000   \n",
       "Health (Life Expectancy)                       0.816478  0.531104   \n",
       "Freedom                                        0.370300  0.441518   \n",
       "Trust (Government Corruption)                  0.307885  0.205605   \n",
       "Generosity                                    -0.010465  0.087513   \n",
       "Dystopia Residual                              0.040059  0.148117   \n",
       "\n",
       "                               Health (Life Expectancy)   Freedom  \\\n",
       "Country                                        0.037829  0.085684   \n",
       "Region                                        -0.357508  0.092567   \n",
       "Happiness Rank                                -0.735613 -0.556886   \n",
       "Happiness Score                                0.724200  0.568211   \n",
       "Standard Error                                -0.310287 -0.129773   \n",
       "Economy (GDP per Capita)                       0.816478  0.370300   \n",
       "Family                                         0.531104  0.441518   \n",
       "Health (Life Expectancy)                       1.000000  0.360477   \n",
       "Freedom                                        0.360477  1.000000   \n",
       "Trust (Government Corruption)                  0.248335  0.493524   \n",
       "Generosity                                     0.108335  0.373916   \n",
       "Dystopia Residual                              0.018979  0.062783   \n",
       "\n",
       "                               Trust (Government Corruption)  Generosity  \\\n",
       "Country                                             0.088155    0.118085   \n",
       "Region                                              0.165040    0.273557   \n",
       "Happiness Rank                                     -0.372315   -0.160142   \n",
       "Happiness Score                                     0.395199    0.180319   \n",
       "Standard Error                                     -0.178325   -0.088439   \n",
       "Economy (GDP per Capita)                            0.307885   -0.010465   \n",
       "Family                                              0.205605    0.087513   \n",
       "Health (Life Expectancy)                            0.248335    0.108335   \n",
       "Freedom                                             0.493524    0.373916   \n",
       "Trust (Government Corruption)                       1.000000    0.276123   \n",
       "Generosity                                          0.276123    1.000000   \n",
       "Dystopia Residual                                  -0.033105   -0.101301   \n",
       "\n",
       "                               Dystopia Residual  \n",
       "Country                                -0.019778  \n",
       "Region                                 -0.057276  \n",
       "Happiness Rank                         -0.521999  \n",
       "Happiness Score                         0.530474  \n",
       "Standard Error                          0.083981  \n",
       "Economy (GDP per Capita)                0.040059  \n",
       "Family                                  0.148117  \n",
       "Health (Life Expectancy)                0.018979  \n",
       "Freedom                                 0.062783  \n",
       "Trust (Government Corruption)          -0.033105  \n",
       "Generosity                             -0.101301  \n",
       "Dystopia Residual                       1.000000  "
      ]
     },
     "execution_count": 29,
     "metadata": {},
     "output_type": "execute_result"
    }
   ],
   "source": [
    "df.corr()"
   ]
  },
  {
   "cell_type": "code",
   "execution_count": 30,
   "id": "ea986859",
   "metadata": {},
   "outputs": [
    {
     "data": {
      "text/plain": [
       "<AxesSubplot:>"
      ]
     },
     "execution_count": 30,
     "metadata": {},
     "output_type": "execute_result"
    },
    {
     "data": {
      "image/png": "[encoded data removed]",
      "text/plain": [
       "<Figure size 1584x504 with 2 Axes>"
      ]
     },
     "metadata": {
      "needs_background": "light"
     },
     "output_type": "display_data"
    }
   ],
   "source": [
    "plt.figure(figsize=(22,7))\n",
    "sns.heatmap(df.corr(), annot=True, linewidths=0.1, linecolor=\"black\", fmt=\"0.2f\")"
   ]
  },
  {
   "cell_type": "markdown",
   "id": "3950e472",
   "metadata": {},
   "source": [
    "### Checking the columns which are positively and negative correlated with the target columns:"
   ]
  },
  {
   "cell_type": "code",
   "execution_count": 31,
   "id": "453c266c",
   "metadata": {},
   "outputs": [
    {
     "data": {
      "image/png": "[encoded data removed]",
      "text/plain": [
       "<Figure size 1584x504 with 1 Axes>"
      ]
     },
     "metadata": {
      "needs_background": "light"
     },
     "output_type": "display_data"
    }
   ],
   "source": [
    "plt.figure(figsize=(22,7))\n",
    "df.corr()['Happiness Score'].sort_values(ascending=False).drop(['Happiness Score']).plot(kind='bar', color ='c')\n",
    "plt.xlabel('Feature', fontsize = 14)\n",
    "plt.ylabel('column with target names', fontsize=14)\n",
    "plt.title('correlation', fontsize = 18)\n",
    "plt.show()"
   ]
  },
  {
   "cell_type": "code",
   "execution_count": 32,
   "id": "eadba968",
   "metadata": {},
   "outputs": [
    {
     "data": {
      "text/plain": [
       "Country                          0.000000\n",
       "Region                          -0.116119\n",
       "Happiness Rank                   0.000418\n",
       "Happiness Score                  0.097769\n",
       "Standard Error                   1.983439\n",
       "Economy (GDP per Capita)        -0.317575\n",
       "Family                          -1.006893\n",
       "Health (Life Expectancy)        -0.705328\n",
       "Freedom                         -0.413462\n",
       "Trust (Government Corruption)    1.385463\n",
       "Generosity                       1.001961\n",
       "Dystopia Residual               -0.238911\n",
       "dtype: float64"
      ]
     },
     "execution_count": 32,
     "metadata": {},
     "output_type": "execute_result"
    }
   ],
   "source": [
    "df.skew()"
   ]
  },
  {
   "cell_type": "code",
   "execution_count": 33,
   "id": "3598cb1e",
   "metadata": {},
   "outputs": [
    {
     "data": {
      "text/plain": [
       "Country                          float64\n",
       "Region                           float64\n",
       "Happiness Rank                     int64\n",
       "Happiness Score                  float64\n",
       "Standard Error                   float64\n",
       "Economy (GDP per Capita)         float64\n",
       "Family                           float64\n",
       "Health (Life Expectancy)         float64\n",
       "Freedom                          float64\n",
       "Trust (Government Corruption)    float64\n",
       "Generosity                       float64\n",
       "Dystopia Residual                float64\n",
       "dtype: object"
      ]
     },
     "execution_count": 33,
     "metadata": {},
     "output_type": "execute_result"
    }
   ],
   "source": [
    "df.dtypes"
   ]
  },
  {
   "cell_type": "markdown",
   "id": "283e3295",
   "metadata": {},
   "source": [
    "## Outliers Checking"
   ]
  },
  {
   "cell_type": "code",
   "execution_count": 34,
   "id": "b92ad0f9",
   "metadata": {},
   "outputs": [
    {
     "data": {
      "text/plain": [
       "<AxesSubplot:>"
      ]
     },
     "execution_count": 34,
     "metadata": {},
     "output_type": "execute_result"
    },
    {
     "data": {
      "image/png": "[encoded data removed]",
      "text/plain": [
       "<Figure size 432x288 with 1 Axes>"
      ]
     },
     "metadata": {
      "needs_background": "light"
     },
     "output_type": "display_data"
    }
   ],
   "source": [
    "df['Standard Error'].plot.box()"
   ]
  },
  {
   "cell_type": "code",
   "execution_count": 35,
   "id": "36f2b446",
   "metadata": {},
   "outputs": [
    {
     "data": {
      "text/plain": [
       "<AxesSubplot:>"
      ]
     },
     "execution_count": 35,
     "metadata": {},
     "output_type": "execute_result"
    },
    {
     "data": {
      "image/png": "[encoded data removed]",
      "text/plain": [
       "<Figure size 432x288 with 1 Axes>"
      ]
     },
     "metadata": {
      "needs_background": "light"
     },
     "output_type": "display_data"
    }
   ],
   "source": [
    "df['Economy (GDP per Capita)'].plot.box()"
   ]
  },
  {
   "cell_type": "code",
   "execution_count": 36,
   "id": "316f38a2",
   "metadata": {},
   "outputs": [
    {
     "data": {
      "text/plain": [
       "<AxesSubplot:>"
      ]
     },
     "execution_count": 36,
     "metadata": {},
     "output_type": "execute_result"
    },
    {
     "data": {
      "image/png": "[encoded data removed]",
      "text/plain": [
       "<Figure size 432x288 with 1 Axes>"
      ]
     },
     "metadata": {
      "needs_background": "light"
     },
     "output_type": "display_data"
    }
   ],
   "source": [
    "df['Family'].plot.box()"
   ]
  },
  {
   "cell_type": "code",
   "execution_count": 37,
   "id": "95167024",
   "metadata": {},
   "outputs": [
    {
     "data": {
      "text/plain": [
       "<AxesSubplot:>"
      ]
     },
     "execution_count": 37,
     "metadata": {},
     "output_type": "execute_result"
    },
    {
     "data": {
      "image/png": "[encoded data removed]",
      "text/plain": [
       "<Figure size 432x288 with 1 Axes>"
      ]
     },
     "metadata": {
      "needs_background": "light"
     },
     "output_type": "display_data"
    }
   ],
   "source": [
    "df['Health (Life Expectancy)'].plot.box()"
   ]
  },
  {
   "cell_type": "code",
   "execution_count": 38,
   "id": "52ff9bca",
   "metadata": {},
   "outputs": [
    {
     "data": {
      "text/plain": [
       "<AxesSubplot:>"
      ]
     },
     "execution_count": 38,
     "metadata": {},
     "output_type": "execute_result"
    },
    {
     "data": {
      "image/png": "[encoded data removed]",
      "text/plain": [
       "<Figure size 432x288 with 1 Axes>"
      ]
     },
     "metadata": {
      "needs_background": "light"
     },
     "output_type": "display_data"
    }
   ],
   "source": [
    "df['Freedom'].plot.box()"
   ]
  },
  {
   "cell_type": "code",
   "execution_count": 39,
   "id": "6c5b0937",
   "metadata": {},
   "outputs": [
    {
     "data": {
      "text/plain": [
       "<AxesSubplot:>"
      ]
     },
     "execution_count": 39,
     "metadata": {},
     "output_type": "execute_result"
    },
    {
     "data": {
      "image/png": "[encoded data removed]",
      "text/plain": [
       "<Figure size 432x288 with 1 Axes>"
      ]
     },
     "metadata": {
      "needs_background": "light"
     },
     "output_type": "display_data"
    }
   ],
   "source": [
    "df['Trust (Government Corruption)'].plot.box()"
   ]
  },
  {
   "cell_type": "code",
   "execution_count": 40,
   "id": "98bfa13b",
   "metadata": {},
   "outputs": [
    {
     "data": {
      "text/plain": [
       "<AxesSubplot:>"
      ]
     },
     "execution_count": 40,
     "metadata": {},
     "output_type": "execute_result"
    },
    {
     "data": {
      "image/png": "[encoded data removed]",
      "text/plain": [
       "<Figure size 432x288 with 1 Axes>"
      ]
     },
     "metadata": {
      "needs_background": "light"
     },
     "output_type": "display_data"
    }
   ],
   "source": [
    "df['Generosity'].plot.box()"
   ]
  },
  {
   "cell_type": "code",
   "execution_count": 41,
   "id": "ca8f12b2",
   "metadata": {},
   "outputs": [
    {
     "data": {
      "text/plain": [
       "<AxesSubplot:>"
      ]
     },
     "execution_count": 41,
     "metadata": {},
     "output_type": "execute_result"
    },
    {
     "data": {
      "image/png": "[encoded data removed]",
      "text/plain": [
       "<Figure size 432x288 with 1 Axes>"
      ]
     },
     "metadata": {
      "needs_background": "light"
     },
     "output_type": "display_data"
    }
   ],
   "source": [
    "df['Dystopia Residual'].plot.box()"
   ]
  },
  {
   "cell_type": "code",
   "execution_count": 42,
   "id": "afe2b331",
   "metadata": {},
   "outputs": [
    {
     "data": {
      "text/plain": [
       "array([0.03411, 0.04884, 0.03328, 0.0388 , 0.03553, 0.0314 , 0.02799,\n",
       "       0.03157, 0.03371, 0.04083, 0.0347 , 0.04454, 0.03751, 0.04176,\n",
       "       0.03839, 0.04076, 0.03499, 0.03676, 0.03595, 0.03729, 0.01866,\n",
       "       0.05335, 0.06476, 0.0378 , 0.0491 , 0.01848, 0.058  , 0.06257,\n",
       "       0.03512, 0.04612, 0.04168, 0.04539, 0.05051, 0.03557, 0.04633,\n",
       "       0.03468, 0.04206, 0.03868, 0.04456, 0.09811, 0.10895, 0.05618,\n",
       "       0.05224, 0.04361, 0.04267, 0.03581, 0.04098, 0.04528, 0.05412,\n",
       "       0.03914, 0.05642, 0.03799, 0.04563, 0.04114, 0.04251, 0.03843,\n",
       "       0.05371, 0.04615, 0.03938, 0.04263, 0.0433 , 0.04394, 0.07832,\n",
       "       0.03135, 0.13693, 0.05635, 0.0558 , 0.05099, 0.05018, 0.04175,\n",
       "       0.07197, 0.04013, 0.02596, 0.03107, 0.03864, 0.03823, 0.04192,\n",
       "       0.03225, 0.03363, 0.03726, 0.04524, 0.05235, 0.02424, 0.06988,\n",
       "       0.06607, 0.04864, 0.04802, 0.0464 , 0.04934, 0.06161, 0.0342 ,\n",
       "       0.05376, 0.07896, 0.05013, 0.06913, 0.09438, 0.07446, 0.06698,\n",
       "       0.03313, 0.08742, 0.05062, 0.04337, 0.06107, 0.05648, 0.03198,\n",
       "       0.03589, 0.03077, 0.04449, 0.04412, 0.05232, 0.04585, 0.04742,\n",
       "       0.0429 , 0.11068, 0.02043, 0.0674 , 0.07331, 0.0368 , 0.03607,\n",
       "       0.07068, 0.03947, 0.04734, 0.08096, 0.04763, 0.04351, 0.04221,\n",
       "       0.0613 , 0.04678, 0.04828, 0.0326 , 0.04367, 0.04758, 0.05602,\n",
       "       0.06682, 0.04797, 0.04317, 0.03608, 0.04547, 0.03602, 0.05069,\n",
       "       0.05061, 0.03633, 0.06112, 0.0383 , 0.0359 , 0.05141, 0.04324,\n",
       "       0.03084, 0.03464, 0.03656, 0.05015, 0.08658, 0.06727])"
      ]
     },
     "execution_count": 42,
     "metadata": {},
     "output_type": "execute_result"
    }
   ],
   "source": [
    "df['Standard Error'].unique()"
   ]
  },
  {
   "cell_type": "code",
   "execution_count": 43,
   "id": "95d5a72e",
   "metadata": {},
   "outputs": [
    {
     "data": {
      "text/plain": [
       "(158, 12)"
      ]
     },
     "execution_count": 43,
     "metadata": {},
     "output_type": "execute_result"
    }
   ],
   "source": [
    "df.shape"
   ]
  },
  {
   "cell_type": "code",
   "execution_count": 44,
   "id": "780487fa",
   "metadata": {},
   "outputs": [
    {
     "data": {
      "text/plain": [
       "(array([ 27,  40,  64, 115, 128, 147, 153, 155, 157], dtype=int64),\n",
       " array([ 9,  4,  4,  4, 10,  6,  9, 11,  6], dtype=int64))"
      ]
     },
     "execution_count": 44,
     "metadata": {},
     "output_type": "execute_result"
    }
   ],
   "source": [
    "from scipy.stats import zscore\n",
    "import numpy as np\n",
    "z=np.abs(zscore(df))\n",
    "threshold=3\n",
    "np.where(z>3)"
   ]
  },
  {
   "cell_type": "code",
   "execution_count": 45,
   "id": "c759dbbf",
   "metadata": {},
   "outputs": [
    {
     "data": {
      "text/html": [
       "<div>\n",
       "<style scoped>\n",
       "    .dataframe tbody tr th:only-of-type {\n",
       "        vertical-align: middle;\n",
       "    }\n",
       "\n",
       "    .dataframe tbody tr th {\n",
       "        vertical-align: top;\n",
       "    }\n",
       "\n",
       "    .dataframe thead th {\n",
       "        text-align: right;\n",
       "    }\n",
       "</style>\n",
       "<table border=\"1\" class=\"dataframe\">\n",
       "  <thead>\n",
       "    <tr style=\"text-align: right;\">\n",
       "      <th></th>\n",
       "      <th>Country</th>\n",
       "      <th>Region</th>\n",
       "      <th>Happiness Rank</th>\n",
       "      <th>Happiness Score</th>\n",
       "      <th>Standard Error</th>\n",
       "      <th>Economy (GDP per Capita)</th>\n",
       "      <th>Family</th>\n",
       "      <th>Health (Life Expectancy)</th>\n",
       "      <th>Freedom</th>\n",
       "      <th>Trust (Government Corruption)</th>\n",
       "      <th>Generosity</th>\n",
       "      <th>Dystopia Residual</th>\n",
       "    </tr>\n",
       "  </thead>\n",
       "  <tbody>\n",
       "    <tr>\n",
       "      <th>0</th>\n",
       "      <td>135.0</td>\n",
       "      <td>9.0</td>\n",
       "      <td>1</td>\n",
       "      <td>7.587</td>\n",
       "      <td>0.03411</td>\n",
       "      <td>1.39651</td>\n",
       "      <td>1.34951</td>\n",
       "      <td>0.94143</td>\n",
       "      <td>0.66557</td>\n",
       "      <td>0.41978</td>\n",
       "      <td>0.29678</td>\n",
       "      <td>2.51738</td>\n",
       "    </tr>\n",
       "    <tr>\n",
       "      <th>1</th>\n",
       "      <td>58.0</td>\n",
       "      <td>9.0</td>\n",
       "      <td>2</td>\n",
       "      <td>7.561</td>\n",
       "      <td>0.04884</td>\n",
       "      <td>1.30232</td>\n",
       "      <td>1.40223</td>\n",
       "      <td>0.94784</td>\n",
       "      <td>0.62877</td>\n",
       "      <td>0.14145</td>\n",
       "      <td>0.43630</td>\n",
       "      <td>2.70201</td>\n",
       "    </tr>\n",
       "    <tr>\n",
       "      <th>2</th>\n",
       "      <td>37.0</td>\n",
       "      <td>9.0</td>\n",
       "      <td>3</td>\n",
       "      <td>7.527</td>\n",
       "      <td>0.03328</td>\n",
       "      <td>1.32548</td>\n",
       "      <td>1.36058</td>\n",
       "      <td>0.87464</td>\n",
       "      <td>0.64938</td>\n",
       "      <td>0.48357</td>\n",
       "      <td>0.34139</td>\n",
       "      <td>2.49204</td>\n",
       "    </tr>\n",
       "    <tr>\n",
       "      <th>3</th>\n",
       "      <td>105.0</td>\n",
       "      <td>9.0</td>\n",
       "      <td>4</td>\n",
       "      <td>7.522</td>\n",
       "      <td>0.03880</td>\n",
       "      <td>1.45900</td>\n",
       "      <td>1.33095</td>\n",
       "      <td>0.88521</td>\n",
       "      <td>0.66973</td>\n",
       "      <td>0.36503</td>\n",
       "      <td>0.34699</td>\n",
       "      <td>2.46531</td>\n",
       "    </tr>\n",
       "    <tr>\n",
       "      <th>4</th>\n",
       "      <td>24.0</td>\n",
       "      <td>5.0</td>\n",
       "      <td>5</td>\n",
       "      <td>7.427</td>\n",
       "      <td>0.03553</td>\n",
       "      <td>1.32629</td>\n",
       "      <td>1.32261</td>\n",
       "      <td>0.90563</td>\n",
       "      <td>0.63297</td>\n",
       "      <td>0.32957</td>\n",
       "      <td>0.45811</td>\n",
       "      <td>2.45176</td>\n",
       "    </tr>\n",
       "    <tr>\n",
       "      <th>...</th>\n",
       "      <td>...</td>\n",
       "      <td>...</td>\n",
       "      <td>...</td>\n",
       "      <td>...</td>\n",
       "      <td>...</td>\n",
       "      <td>...</td>\n",
       "      <td>...</td>\n",
       "      <td>...</td>\n",
       "      <td>...</td>\n",
       "      <td>...</td>\n",
       "      <td>...</td>\n",
       "      <td>...</td>\n",
       "    </tr>\n",
       "    <tr>\n",
       "      <th>150</th>\n",
       "      <td>66.0</td>\n",
       "      <td>8.0</td>\n",
       "      <td>151</td>\n",
       "      <td>3.655</td>\n",
       "      <td>0.05141</td>\n",
       "      <td>0.46534</td>\n",
       "      <td>0.77115</td>\n",
       "      <td>0.15185</td>\n",
       "      <td>0.46866</td>\n",
       "      <td>0.17922</td>\n",
       "      <td>0.20165</td>\n",
       "      <td>1.41723</td>\n",
       "    </tr>\n",
       "    <tr>\n",
       "      <th>151</th>\n",
       "      <td>20.0</td>\n",
       "      <td>8.0</td>\n",
       "      <td>152</td>\n",
       "      <td>3.587</td>\n",
       "      <td>0.04324</td>\n",
       "      <td>0.25812</td>\n",
       "      <td>0.85188</td>\n",
       "      <td>0.27125</td>\n",
       "      <td>0.39493</td>\n",
       "      <td>0.12832</td>\n",
       "      <td>0.21747</td>\n",
       "      <td>1.46494</td>\n",
       "    </tr>\n",
       "    <tr>\n",
       "      <th>152</th>\n",
       "      <td>0.0</td>\n",
       "      <td>7.0</td>\n",
       "      <td>153</td>\n",
       "      <td>3.575</td>\n",
       "      <td>0.03084</td>\n",
       "      <td>0.31982</td>\n",
       "      <td>0.30285</td>\n",
       "      <td>0.30335</td>\n",
       "      <td>0.23414</td>\n",
       "      <td>0.09719</td>\n",
       "      <td>0.36510</td>\n",
       "      <td>1.95210</td>\n",
       "    </tr>\n",
       "    <tr>\n",
       "      <th>154</th>\n",
       "      <td>13.0</td>\n",
       "      <td>8.0</td>\n",
       "      <td>155</td>\n",
       "      <td>3.340</td>\n",
       "      <td>0.03656</td>\n",
       "      <td>0.28665</td>\n",
       "      <td>0.35386</td>\n",
       "      <td>0.31910</td>\n",
       "      <td>0.48450</td>\n",
       "      <td>0.08010</td>\n",
       "      <td>0.18260</td>\n",
       "      <td>1.63328</td>\n",
       "    </tr>\n",
       "    <tr>\n",
       "      <th>156</th>\n",
       "      <td>21.0</td>\n",
       "      <td>8.0</td>\n",
       "      <td>157</td>\n",
       "      <td>2.905</td>\n",
       "      <td>0.08658</td>\n",
       "      <td>0.01530</td>\n",
       "      <td>0.41587</td>\n",
       "      <td>0.22396</td>\n",
       "      <td>0.11850</td>\n",
       "      <td>0.10062</td>\n",
       "      <td>0.19727</td>\n",
       "      <td>1.83302</td>\n",
       "    </tr>\n",
       "  </tbody>\n",
       "</table>\n",
       "<p>149 rows × 12 columns</p>\n",
       "</div>"
      ],
      "text/plain": [
       "     Country  Region  Happiness Rank  Happiness Score  Standard Error  \\\n",
       "0      135.0     9.0               1            7.587         0.03411   \n",
       "1       58.0     9.0               2            7.561         0.04884   \n",
       "2       37.0     9.0               3            7.527         0.03328   \n",
       "3      105.0     9.0               4            7.522         0.03880   \n",
       "4       24.0     5.0               5            7.427         0.03553   \n",
       "..       ...     ...             ...              ...             ...   \n",
       "150     66.0     8.0             151            3.655         0.05141   \n",
       "151     20.0     8.0             152            3.587         0.04324   \n",
       "152      0.0     7.0             153            3.575         0.03084   \n",
       "154     13.0     8.0             155            3.340         0.03656   \n",
       "156     21.0     8.0             157            2.905         0.08658   \n",
       "\n",
       "     Economy (GDP per Capita)   Family  Health (Life Expectancy)  Freedom  \\\n",
       "0                     1.39651  1.34951                   0.94143  0.66557   \n",
       "1                     1.30232  1.40223                   0.94784  0.62877   \n",
       "2                     1.32548  1.36058                   0.87464  0.64938   \n",
       "3                     1.45900  1.33095                   0.88521  0.66973   \n",
       "4                     1.32629  1.32261                   0.90563  0.63297   \n",
       "..                        ...      ...                       ...      ...   \n",
       "150                   0.46534  0.77115                   0.15185  0.46866   \n",
       "151                   0.25812  0.85188                   0.27125  0.39493   \n",
       "152                   0.31982  0.30285                   0.30335  0.23414   \n",
       "154                   0.28665  0.35386                   0.31910  0.48450   \n",
       "156                   0.01530  0.41587                   0.22396  0.11850   \n",
       "\n",
       "     Trust (Government Corruption)  Generosity  Dystopia Residual  \n",
       "0                          0.41978     0.29678            2.51738  \n",
       "1                          0.14145     0.43630            2.70201  \n",
       "2                          0.48357     0.34139            2.49204  \n",
       "3                          0.36503     0.34699            2.46531  \n",
       "4                          0.32957     0.45811            2.45176  \n",
       "..                             ...         ...                ...  \n",
       "150                        0.17922     0.20165            1.41723  \n",
       "151                        0.12832     0.21747            1.46494  \n",
       "152                        0.09719     0.36510            1.95210  \n",
       "154                        0.08010     0.18260            1.63328  \n",
       "156                        0.10062     0.19727            1.83302  \n",
       "\n",
       "[149 rows x 12 columns]"
      ]
     },
     "execution_count": 45,
     "metadata": {},
     "output_type": "execute_result"
    }
   ],
   "source": [
    "df_new_z=df[(z<3).all(axis=1)]\n",
    "df_new_z"
   ]
  },
  {
   "cell_type": "code",
   "execution_count": 46,
   "id": "8655c21b",
   "metadata": {},
   "outputs": [
    {
     "data": {
      "text/plain": [
       "(149, 12)"
      ]
     },
     "execution_count": 46,
     "metadata": {},
     "output_type": "execute_result"
    }
   ],
   "source": [
    "df_new_z.shape"
   ]
  },
  {
   "cell_type": "code",
   "execution_count": 47,
   "id": "b86f0833",
   "metadata": {},
   "outputs": [
    {
     "data": {
      "text/plain": [
       "5.69620253164557"
      ]
     },
     "execution_count": 47,
     "metadata": {},
     "output_type": "execute_result"
    }
   ],
   "source": [
    "Data_loss=((158- 149)/158)*100\n",
    "Data_loss"
   ]
  },
  {
   "cell_type": "markdown",
   "id": "dfbe964d",
   "metadata": {},
   "source": [
    "# Separating the columns into features and target: "
   ]
  },
  {
   "cell_type": "code",
   "execution_count": 48,
   "id": "1555b538",
   "metadata": {},
   "outputs": [],
   "source": [
    "features = df.drop(\"Happiness Score\",axis = 1)\n",
    "target = df[\"Happiness Score\"]"
   ]
  },
  {
   "cell_type": "markdown",
   "id": "30331554",
   "metadata": {},
   "source": [
    "# Scaling data using Min-Max Scaler"
   ]
  },
  {
   "cell_type": "code",
   "execution_count": 51,
   "id": "488a1243",
   "metadata": {},
   "outputs": [],
   "source": [
    "from sklearn.preprocessing import MinMaxScaler\n",
    "mms=MinMaxScaler\n",
    "from sklearn.linear_model import LinearRegression\n",
    "lr=LinearRegression()\n",
    "from sklearn.metrics import r2_score\n",
    "from sklearn.model_selection import train_test_split"
   ]
  },
  {
   "cell_type": "code",
   "execution_count": 52,
   "id": "dd341971",
   "metadata": {},
   "outputs": [
    {
     "name": "stdout",
     "output_type": "stream",
     "text": [
      "At random state 0, the training accuracy is :- 0.9999999514441257\n",
      "At random state 0, the testing accuracy is :- 0.999999902494247\n",
      "\n",
      "\n",
      "At random state 1, the training accuracy is :- 0.9999999444138908\n",
      "At random state 1, the testing accuracy is :- 0.9999999394454414\n",
      "\n",
      "\n",
      "At random state 2, the training accuracy is :- 0.9999999405491521\n",
      "At random state 2, the testing accuracy is :- 0.9999999523828854\n",
      "\n",
      "\n",
      "At random state 3, the training accuracy is :- 0.9999999420745156\n",
      "At random state 3, the testing accuracy is :- 0.9999999470792729\n",
      "\n",
      "\n",
      "At random state 4, the training accuracy is :- 0.9999999379277369\n",
      "At random state 4, the testing accuracy is :- 0.9999999520348243\n",
      "\n",
      "\n",
      "At random state 5, the training accuracy is :- 0.9999999487684214\n",
      "At random state 5, the testing accuracy is :- 0.9999999027545904\n",
      "\n",
      "\n",
      "At random state 6, the training accuracy is :- 0.9999999463039511\n",
      "At random state 6, the testing accuracy is :- 0.9999999338566166\n",
      "\n",
      "\n",
      "At random state 7, the training accuracy is :- 0.9999999443622295\n",
      "At random state 7, the testing accuracy is :- 0.9999999390236177\n",
      "\n",
      "\n",
      "At random state 8, the training accuracy is :- 0.9999999431832651\n",
      "At random state 8, the testing accuracy is :- 0.9999999451851778\n",
      "\n",
      "\n",
      "At random state 9, the training accuracy is :- 0.9999999496263431\n",
      "At random state 9, the testing accuracy is :- 0.9999999046522982\n",
      "\n",
      "\n",
      "At random state 10, the training accuracy is :- 0.9999999478911923\n",
      "At random state 10, the testing accuracy is :- 0.9999999208809212\n",
      "\n",
      "\n",
      "At random state 11, the training accuracy is :- 0.9999999413262857\n",
      "At random state 11, the testing accuracy is :- 0.99999995492429\n",
      "\n",
      "\n",
      "At random state 12, the training accuracy is :- 0.9999999428014061\n",
      "At random state 12, the testing accuracy is :- 0.9999999439158268\n",
      "\n",
      "\n",
      "At random state 13, the training accuracy is :- 0.9999999457235718\n",
      "At random state 13, the testing accuracy is :- 0.999999930069046\n",
      "\n",
      "\n",
      "At random state 14, the training accuracy is :- 0.9999999421956521\n",
      "At random state 14, the testing accuracy is :- 0.9999999493575831\n",
      "\n",
      "\n",
      "At random state 15, the training accuracy is :- 0.9999999465563185\n",
      "At random state 15, the testing accuracy is :- 0.9999999277105451\n",
      "\n",
      "\n",
      "At random state 16, the training accuracy is :- 0.9999999464273974\n",
      "At random state 16, the testing accuracy is :- 0.999999928748116\n",
      "\n",
      "\n",
      "At random state 17, the training accuracy is :- 0.9999999455349754\n",
      "At random state 17, the testing accuracy is :- 0.9999999306366892\n",
      "\n",
      "\n",
      "At random state 18, the training accuracy is :- 0.9999999476514014\n",
      "At random state 18, the testing accuracy is :- 0.9999999262097313\n",
      "\n",
      "\n",
      "At random state 19, the training accuracy is :- 0.9999999513016647\n",
      "At random state 19, the testing accuracy is :- 0.9999999154365673\n",
      "\n",
      "\n",
      "At random state 20, the training accuracy is :- 0.999999947923248\n",
      "At random state 20, the testing accuracy is :- 0.9999999208275052\n",
      "\n",
      "\n",
      "At random state 21, the training accuracy is :- 0.9999999449971794\n",
      "At random state 21, the testing accuracy is :- 0.9999999370705369\n",
      "\n",
      "\n",
      "At random state 22, the training accuracy is :- 0.9999999442123165\n",
      "At random state 22, the testing accuracy is :- 0.999999943074038\n",
      "\n",
      "\n",
      "At random state 23, the training accuracy is :- 0.9999999490639547\n",
      "At random state 23, the testing accuracy is :- 0.9999999096447473\n",
      "\n",
      "\n",
      "At random state 24, the training accuracy is :- 0.999999945077829\n",
      "At random state 24, the testing accuracy is :- 0.9999999401649293\n",
      "\n",
      "\n",
      "At random state 25, the training accuracy is :- 0.9999999533463028\n",
      "At random state 25, the testing accuracy is :- 0.9999998629117501\n",
      "\n",
      "\n",
      "At random state 26, the training accuracy is :- 0.999999943500417\n",
      "At random state 26, the testing accuracy is :- 0.9999999433545257\n",
      "\n",
      "\n",
      "At random state 27, the training accuracy is :- 0.999999948352636\n",
      "At random state 27, the testing accuracy is :- 0.9999999173972565\n",
      "\n",
      "\n",
      "At random state 28, the training accuracy is :- 0.9999999498626814\n",
      "At random state 28, the testing accuracy is :- 0.9999999042803567\n",
      "\n",
      "\n",
      "At random state 29, the training accuracy is :- 0.9999999497014214\n",
      "At random state 29, the testing accuracy is :- 0.9999999147086283\n",
      "\n",
      "\n",
      "At random state 30, the training accuracy is :- 0.9999999464966631\n",
      "At random state 30, the testing accuracy is :- 0.9999999320488528\n",
      "\n",
      "\n",
      "At random state 31, the training accuracy is :- 0.9999999455641357\n",
      "At random state 31, the testing accuracy is :- 0.9999999305149669\n",
      "\n",
      "\n",
      "At random state 32, the training accuracy is :- 0.9999999399586232\n",
      "At random state 32, the testing accuracy is :- 0.9999999515155882\n",
      "\n",
      "\n",
      "At random state 33, the training accuracy is :- 0.9999999354552987\n",
      "At random state 33, the testing accuracy is :- 0.9999999614422656\n",
      "\n",
      "\n",
      "At random state 34, the training accuracy is :- 0.9999999476740629\n",
      "At random state 34, the testing accuracy is :- 0.9999999099797547\n",
      "\n",
      "\n",
      "At random state 35, the training accuracy is :- 0.9999999496499709\n",
      "At random state 35, the testing accuracy is :- 0.9999999145594017\n",
      "\n",
      "\n",
      "At random state 36, the training accuracy is :- 0.9999999486436062\n",
      "At random state 36, the testing accuracy is :- 0.9999999118293326\n",
      "\n",
      "\n",
      "At random state 37, the training accuracy is :- 0.9999999414331388\n",
      "At random state 37, the testing accuracy is :- 0.999999948834892\n",
      "\n",
      "\n",
      "At random state 38, the training accuracy is :- 0.9999999514005621\n",
      "At random state 38, the testing accuracy is :- 0.9999998781956849\n",
      "\n",
      "\n",
      "At random state 39, the training accuracy is :- 0.9999999390568748\n",
      "At random state 39, the testing accuracy is :- 0.9999999584629374\n",
      "\n",
      "\n",
      "At random state 40, the training accuracy is :- 0.9999999535319539\n",
      "At random state 40, the testing accuracy is :- 0.9999998945649935\n",
      "\n",
      "\n",
      "At random state 41, the training accuracy is :- 0.9999999423586609\n",
      "At random state 41, the testing accuracy is :- 0.9999999451454288\n",
      "\n",
      "\n",
      "At random state 42, the training accuracy is :- 0.9999999418495742\n",
      "At random state 42, the testing accuracy is :- 0.9999999479894783\n",
      "\n",
      "\n",
      "At random state 43, the training accuracy is :- 0.9999999450679793\n",
      "At random state 43, the testing accuracy is :- 0.9999999350492051\n",
      "\n",
      "\n",
      "At random state 44, the training accuracy is :- 0.9999999450357947\n",
      "At random state 44, the testing accuracy is :- 0.9999999309362592\n",
      "\n",
      "\n",
      "At random state 45, the training accuracy is :- 0.9999999442975229\n",
      "At random state 45, the testing accuracy is :- 0.9999999376119004\n",
      "\n",
      "\n",
      "At random state 46, the training accuracy is :- 0.9999999432796748\n",
      "At random state 46, the testing accuracy is :- 0.999999946825304\n",
      "\n",
      "\n",
      "At random state 47, the training accuracy is :- 0.9999999472172165\n",
      "At random state 47, the testing accuracy is :- 0.9999999157859795\n",
      "\n",
      "\n",
      "At random state 48, the training accuracy is :- 0.9999999487504714\n",
      "At random state 48, the testing accuracy is :- 0.9999999205856925\n",
      "\n",
      "\n",
      "At random state 49, the training accuracy is :- 0.9999999485303155\n",
      "At random state 49, the testing accuracy is :- 0.9999999142132717\n",
      "\n",
      "\n",
      "At random state 50, the training accuracy is :- 0.9999999451370812\n",
      "At random state 50, the testing accuracy is :- 0.999999935285634\n",
      "\n",
      "\n",
      "At random state 51, the training accuracy is :- 0.9999999490491347\n",
      "At random state 51, the testing accuracy is :- 0.9999999170032978\n",
      "\n",
      "\n",
      "At random state 52, the training accuracy is :- 0.9999999440744622\n",
      "At random state 52, the testing accuracy is :- 0.9999999402886866\n",
      "\n",
      "\n",
      "At random state 53, the training accuracy is :- 0.9999999470079405\n",
      "At random state 53, the testing accuracy is :- 0.9999999212720422\n",
      "\n",
      "\n",
      "At random state 54, the training accuracy is :- 0.9999999341244036\n",
      "At random state 54, the testing accuracy is :- 0.9999999669025798\n",
      "\n",
      "\n",
      "At random state 55, the training accuracy is :- 0.9999999459567398\n",
      "At random state 55, the testing accuracy is :- 0.9999999289335043\n",
      "\n",
      "\n",
      "At random state 56, the training accuracy is :- 0.9999999444025661\n",
      "At random state 56, the testing accuracy is :- 0.9999999374890429\n",
      "\n",
      "\n",
      "At random state 57, the training accuracy is :- 0.9999999457238946\n",
      "At random state 57, the testing accuracy is :- 0.999999932013183\n",
      "\n",
      "\n",
      "At random state 58, the training accuracy is :- 0.999999950374854\n",
      "At random state 58, the testing accuracy is :- 0.9999998861117805\n",
      "\n",
      "\n",
      "At random state 59, the training accuracy is :- 0.9999999459369627\n",
      "At random state 59, the testing accuracy is :- 0.9999999304256341\n",
      "\n",
      "\n",
      "At random state 60, the training accuracy is :- 0.9999999400556021\n",
      "At random state 60, the testing accuracy is :- 0.9999999570262081\n",
      "\n",
      "\n",
      "At random state 61, the training accuracy is :- 0.9999999449818632\n",
      "At random state 61, the testing accuracy is :- 0.9999999347618402\n",
      "\n",
      "\n",
      "At random state 62, the training accuracy is :- 0.9999999551029215\n",
      "At random state 62, the testing accuracy is :- 0.9999998495519548\n",
      "\n",
      "\n",
      "At random state 63, the training accuracy is :- 0.9999999462014056\n",
      "At random state 63, the testing accuracy is :- 0.9999999278364704\n",
      "\n",
      "\n",
      "At random state 64, the training accuracy is :- 0.9999999419026194\n",
      "At random state 64, the testing accuracy is :- 0.9999999432754262\n",
      "\n",
      "\n",
      "At random state 65, the training accuracy is :- 0.9999999483267275\n",
      "At random state 65, the testing accuracy is :- 0.9999999205511917\n",
      "\n",
      "\n",
      "At random state 66, the training accuracy is :- 0.9999999475969934\n",
      "At random state 66, the testing accuracy is :- 0.9999999194512742\n",
      "\n",
      "\n",
      "At random state 67, the training accuracy is :- 0.999999942376043\n",
      "At random state 67, the testing accuracy is :- 0.9999999480090856\n",
      "\n",
      "\n",
      "At random state 68, the training accuracy is :- 0.9999999491546516\n",
      "At random state 68, the testing accuracy is :- 0.9999999112801085\n",
      "\n",
      "\n",
      "At random state 69, the training accuracy is :- 0.9999999419933778\n",
      "At random state 69, the testing accuracy is :- 0.9999999480280182\n",
      "\n",
      "\n",
      "At random state 70, the training accuracy is :- 0.9999999489754212\n",
      "At random state 70, the testing accuracy is :- 0.9999999238423941\n",
      "\n",
      "\n",
      "At random state 71, the training accuracy is :- 0.99999994722582\n",
      "At random state 71, the testing accuracy is :- 0.99999992318794\n",
      "\n",
      "\n",
      "At random state 72, the training accuracy is :- 0.9999999321482149\n",
      "At random state 72, the testing accuracy is :- 0.9999999687861033\n",
      "\n",
      "\n",
      "At random state 73, the training accuracy is :- 0.9999999482925359\n",
      "At random state 73, the testing accuracy is :- 0.9999999235946205\n",
      "\n",
      "\n",
      "At random state 74, the training accuracy is :- 0.9999999413802511\n",
      "At random state 74, the testing accuracy is :- 0.9999999497472223\n",
      "\n",
      "\n",
      "At random state 75, the training accuracy is :- 0.9999999450059809\n",
      "At random state 75, the testing accuracy is :- 0.9999999404880564\n",
      "\n",
      "\n",
      "At random state 76, the training accuracy is :- 0.9999999510573178\n",
      "At random state 76, the testing accuracy is :- 0.9999998977376644\n",
      "\n",
      "\n",
      "At random state 77, the training accuracy is :- 0.9999999467352935\n",
      "At random state 77, the testing accuracy is :- 0.999999926224042\n",
      "\n",
      "\n",
      "At random state 78, the training accuracy is :- 0.999999947525497\n",
      "At random state 78, the testing accuracy is :- 0.9999999178568207\n",
      "\n",
      "\n",
      "At random state 79, the training accuracy is :- 0.9999999430241912\n",
      "At random state 79, the testing accuracy is :- 0.9999999441770276\n",
      "\n",
      "\n",
      "At random state 80, the training accuracy is :- 0.9999999465182218\n",
      "At random state 80, the testing accuracy is :- 0.9999999186162258\n",
      "\n",
      "\n",
      "At random state 81, the training accuracy is :- 0.9999999439695694\n",
      "At random state 81, the testing accuracy is :- 0.9999999393818307\n",
      "\n",
      "\n",
      "At random state 82, the training accuracy is :- 0.9999999479310794\n",
      "At random state 82, the testing accuracy is :- 0.9999999219098006\n",
      "\n",
      "\n",
      "At random state 83, the training accuracy is :- 0.9999999436569409\n",
      "At random state 83, the testing accuracy is :- 0.9999999397468224\n",
      "\n",
      "\n",
      "At random state 84, the training accuracy is :- 0.9999999405366963\n",
      "At random state 84, the testing accuracy is :- 0.9999999550541039\n",
      "\n",
      "\n",
      "At random state 85, the training accuracy is :- 0.9999999487437838\n",
      "At random state 85, the testing accuracy is :- 0.9999999079780693\n",
      "\n",
      "\n",
      "At random state 86, the training accuracy is :- 0.9999999450115897\n",
      "At random state 86, the testing accuracy is :- 0.9999999375550912\n",
      "\n",
      "\n",
      "At random state 87, the training accuracy is :- 0.9999999421973067\n",
      "At random state 87, the testing accuracy is :- 0.9999999468242481\n",
      "\n",
      "\n",
      "At random state 88, the training accuracy is :- 0.9999999486592593\n",
      "At random state 88, the testing accuracy is :- 0.9999999175470562\n",
      "\n",
      "\n",
      "At random state 89, the training accuracy is :- 0.9999999473356177\n",
      "At random state 89, the testing accuracy is :- 0.9999999177870079\n",
      "\n",
      "\n",
      "At random state 90, the training accuracy is :- 0.9999999414111247\n",
      "At random state 90, the testing accuracy is :- 0.9999999508109699\n",
      "\n",
      "\n",
      "At random state 91, the training accuracy is :- 0.9999999482095201\n",
      "At random state 91, the testing accuracy is :- 0.9999999201089762\n",
      "\n",
      "\n",
      "At random state 92, the training accuracy is :- 0.9999999478351222\n",
      "At random state 92, the testing accuracy is :- 0.9999999233563629\n",
      "\n",
      "\n",
      "At random state 93, the training accuracy is :- 0.9999999442049667\n",
      "At random state 93, the testing accuracy is :- 0.9999999403274165\n",
      "\n",
      "\n",
      "At random state 94, the training accuracy is :- 0.9999999497510381\n",
      "At random state 94, the testing accuracy is :- 0.9999999002724606\n",
      "\n",
      "\n",
      "At random state 95, the training accuracy is :- 0.9999999477717485\n",
      "At random state 95, the testing accuracy is :- 0.999999923476401\n",
      "\n",
      "\n",
      "At random state 96, the training accuracy is :- 0.9999999454124616\n",
      "At random state 96, the testing accuracy is :- 0.9999999373291335\n",
      "\n",
      "\n",
      "At random state 97, the training accuracy is :- 0.9999999448576792\n",
      "At random state 97, the testing accuracy is :- 0.9999999409688296\n",
      "\n",
      "\n",
      "At random state 98, the training accuracy is :- 0.999999952749865\n",
      "At random state 98, the testing accuracy is :- 0.9999998868716798\n",
      "\n",
      "\n",
      "At random state 99, the training accuracy is :- 0.9999999442155584\n",
      "At random state 99, the testing accuracy is :- 0.9999999331142203\n",
      "\n",
      "\n"
     ]
    }
   ],
   "source": [
    "for i in range(0,100):\n",
    "    features_train, features_test, target_train, target_test=train_test_split(features,target,test_size=0.2,random_state=i)\n",
    "    lr.fit(features_train,target_train)\n",
    "    pred_train=lr.predict(features_train)\n",
    "    pred_test=lr.predict(features_test)\n",
    "    print(f\"At random state {i}, the training accuracy is :- {r2_score(target_train, pred_train)}\")\n",
    "    print(f\"At random state {i}, the testing accuracy is :- {r2_score(target_test, pred_test)}\")\n",
    "    print(\"\\n\")"
   ]
  },
  {
   "cell_type": "code",
   "execution_count": 53,
   "id": "06f5b0e1",
   "metadata": {},
   "outputs": [],
   "source": [
    "features_train, features_test, target_train, target_test=train_test_split(features, target, test_size=0.2,random_state=12)"
   ]
  },
  {
   "cell_type": "code",
   "execution_count": 54,
   "id": "100f6d18",
   "metadata": {},
   "outputs": [
    {
     "data": {
      "text/plain": [
       "LinearRegression()"
      ]
     },
     "execution_count": 54,
     "metadata": {},
     "output_type": "execute_result"
    }
   ],
   "source": [
    "lr.fit(features_train,target_train)"
   ]
  },
  {
   "cell_type": "code",
   "execution_count": 55,
   "id": "75f12796",
   "metadata": {},
   "outputs": [],
   "source": [
    "pred_test=lr.predict(features_test)"
   ]
  },
  {
   "cell_type": "code",
   "execution_count": 56,
   "id": "146a7d0a",
   "metadata": {},
   "outputs": [
    {
     "name": "stdout",
     "output_type": "stream",
     "text": [
      "0.9999999439158268\n"
     ]
    }
   ],
   "source": [
    "print(r2_score(target_test, pred_test))"
   ]
  },
  {
   "cell_type": "markdown",
   "id": "7594117e",
   "metadata": {},
   "source": [
    "# Model Cross-validation"
   ]
  },
  {
   "cell_type": "code",
   "execution_count": 57,
   "id": "383599d4",
   "metadata": {},
   "outputs": [
    {
     "name": "stdout",
     "output_type": "stream",
     "text": [
      "At cross fold2 the cv score is 0.9999997284501867 and accuracy score for training is -0.9329836014511437 and accuracy for the testing is 0.9999999439158268\n",
      "\n",
      "\n",
      "At cross fold3 the cv score is 0.9999994758122854 and accuracy score for training is -0.9329836014511437 and accuracy for the testing is 0.9999999439158268\n",
      "\n",
      "\n",
      "At cross fold4 the cv score is 0.9999988371717737 and accuracy score for training is -0.9329836014511437 and accuracy for the testing is 0.9999999439158268\n",
      "\n",
      "\n",
      "At cross fold5 the cv score is 0.9999982417917263 and accuracy score for training is -0.9329836014511437 and accuracy for the testing is 0.9999999439158268\n",
      "\n",
      "\n",
      "At cross fold6 the cv score is 0.9999971509064253 and accuracy score for training is -0.9329836014511437 and accuracy for the testing is 0.9999999439158268\n",
      "\n",
      "\n",
      "At cross fold7 the cv score is 0.99999580182807 and accuracy score for training is -0.9329836014511437 and accuracy for the testing is 0.9999999439158268\n",
      "\n",
      "\n",
      "At cross fold8 the cv score is 0.9999955494387556 and accuracy score for training is -0.9329836014511437 and accuracy for the testing is 0.9999999439158268\n",
      "\n",
      "\n",
      "At cross fold9 the cv score is 0.9999935863400461 and accuracy score for training is -0.9329836014511437 and accuracy for the testing is 0.9999999439158268\n",
      "\n",
      "\n"
     ]
    }
   ],
   "source": [
    "Train_accuracy=r2_score(target_train, pred_train)\n",
    "Test_accuracy=r2_score(target_test, pred_test)\n",
    "\n",
    "from sklearn.model_selection import cross_val_score\n",
    "for j in range(2,10):\n",
    "    cv_score=cross_val_score(lr,features,target,cv=j)\n",
    "    cv_mean=cv_score.mean()\n",
    "    print(f\"At cross fold{j} the cv score is {cv_mean} and accuracy score for training is {Train_accuracy} and accuracy for the testing is {Test_accuracy}\")\n",
    "    print(\"\\n\")"
   ]
  },
  {
   "cell_type": "code",
   "execution_count": null,
   "id": "a54a7b3c",
   "metadata": {},
   "outputs": [],
   "source": []
  },
  {
   "cell_type": "code",
   "execution_count": 58,
   "id": "c4b3421b",
   "metadata": {},
   "outputs": [
    {
     "data": {
      "image/png": "[encoded data removed]",
      "text/plain": [
       "<Figure size 576x432 with 1 Axes>"
      ]
     },
     "metadata": {
      "needs_background": "light"
     },
     "output_type": "display_data"
    }
   ],
   "source": [
    "import matplotlib.pyplot as plt\n",
    "plt.figure(figsize=(8,6))\n",
    "plt.scatter(x=target_test, y=pred_test, color='r')\n",
    "plt.plot(target_test, target_test, color='b')\n",
    "plt.xlabel('Actual Happiness Score', fontsize=14)\n",
    "plt.ylabel('Predicted Happiness Score', fontsize=14)\n",
    "plt.title('Linear Regression', fontsize=18)\n",
    "plt.show()"
   ]
  },
  {
   "cell_type": "markdown",
   "id": "fb9c042f",
   "metadata": {},
   "source": [
    "# Regularization"
   ]
  },
  {
   "cell_type": "code",
   "execution_count": 59,
   "id": "90982d25",
   "metadata": {},
   "outputs": [],
   "source": [
    "from sklearn.model_selection import GridSearchCV\n",
    "from sklearn.model_selection import cross_val_score"
   ]
  },
  {
   "cell_type": "code",
   "execution_count": 60,
   "id": "06762422",
   "metadata": {},
   "outputs": [
    {
     "name": "stdout",
     "output_type": "stream",
     "text": [
      "{'alpha': 0.0001, 'random_state': 0}\n"
     ]
    }
   ],
   "source": [
    "from sklearn.linear_model import Lasso\n",
    "\n",
    "parameters = {'alpha':[.0001, .001, .01, .1, 1, 10], 'random_state':list(range(0, 10))}\n",
    "ls = Lasso()\n",
    "clf = GridSearchCV(ls, parameters)\n",
    "clf.fit(features_train, target_train)\n",
    "\n",
    "print(clf.best_params_)"
   ]
  },
  {
   "cell_type": "code",
   "execution_count": 61,
   "id": "5d13fc2a",
   "metadata": {},
   "outputs": [
    {
     "data": {
      "text/plain": [
       "0.9889087963460483"
      ]
     },
     "execution_count": 61,
     "metadata": {},
     "output_type": "execute_result"
    }
   ],
   "source": [
    "ls = Lasso(alpha = 1, random_state = 0)\n",
    "ls.fit(features_train, target_train)\n",
    "ls.score(features_train, target_train)\n",
    "pred_ls = ls.predict(features_test)\n",
    "\n",
    "lss = r2_score(target_test, pred_ls)\n",
    "lss"
   ]
  },
  {
   "cell_type": "code",
   "execution_count": 62,
   "id": "54644a49",
   "metadata": {},
   "outputs": [
    {
     "data": {
      "text/plain": [
       "0.42769408750383314"
      ]
     },
     "execution_count": 62,
     "metadata": {},
     "output_type": "execute_result"
    }
   ],
   "source": [
    "cv_score=cross_val_score(ls,features,target,cv=5)\n",
    "cv_mean=cv_score.mean()\n",
    "cv_mean"
   ]
  },
  {
   "cell_type": "markdown",
   "id": "ea905d81",
   "metadata": {},
   "source": [
    "# Ensemble technique:"
   ]
  },
  {
   "cell_type": "code",
   "execution_count": 63,
   "id": "f784bdc9",
   "metadata": {},
   "outputs": [
    {
     "name": "stdout",
     "output_type": "stream",
     "text": [
      "{'criterion': 'mse', 'max_features': 'auto'}\n"
     ]
    }
   ],
   "source": [
    "from sklearn.model_selection import GridSearchCV\n",
    "from sklearn.ensemble import RandomForestRegressor\n",
    "parameters = {'criterion':['mse', 'mae'], 'max_features':[\"auto\", \"sqrt\", \"log2\"]}\n",
    "rf = RandomForestRegressor()\n",
    "clf = GridSearchCV(rf, parameters)\n",
    "clf.fit(features_train, target_train)\n",
    "\n",
    "print(clf.best_params_)"
   ]
  },
  {
   "cell_type": "code",
   "execution_count": 64,
   "id": "2e94592f",
   "metadata": {},
   "outputs": [
    {
     "name": "stdout",
     "output_type": "stream",
     "text": [
      "R2 Score:  99.91538661293838\n",
      "Cross Val Score:  -165.1762908530833\n"
     ]
    }
   ],
   "source": [
    "rf = RandomForestRegressor(criterion = \"mse\", max_features = \"auto\")\n",
    "rf.fit(features_train, target_train)\n",
    "rf.score(features_train, target_train)\n",
    "pred_decision = rf.predict(features_test)\n",
    "\n",
    "rfs = r2_score(target_test, pred_decision)\n",
    "print('R2 Score: ', rfs*100)\n",
    "\n",
    "rfscore = cross_val_score(rf, features, target, cv=5)\n",
    "rfc = rfscore.mean()\n",
    "print('Cross Val Score: ', rfc*100)"
   ]
  },
  {
   "cell_type": "markdown",
   "id": "fbde7917",
   "metadata": {},
   "source": [
    "# Model Accuracy"
   ]
  },
  {
   "cell_type": "code",
   "execution_count": 65,
   "id": "deb8d4d5",
   "metadata": {},
   "outputs": [],
   "source": [
    "import pickle\n",
    "filename = 'happiness_score.pkl'\n",
    "pickle.dump(rf, open(filename,'wb'))"
   ]
  },
  {
   "cell_type": "markdown",
   "id": "91f245bf",
   "metadata": {},
   "source": [
    "# Conclusion"
   ]
  },
  {
   "cell_type": "code",
   "execution_count": 66,
   "id": "095434a8",
   "metadata": {},
   "outputs": [
    {
     "name": "stdout",
     "output_type": "stream",
     "text": [
      "0.9991538661293837\n"
     ]
    }
   ],
   "source": [
    "loaded_model = pickle.load(open('happiness_score.pkl', 'rb'))\n",
    "result = loaded_model.score(features_test, target_test)\n",
    "print(result)"
   ]
  },
  {
   "cell_type": "code",
   "execution_count": 67,
   "id": "a04c57c8",
   "metadata": {},
   "outputs": [],
   "source": [
    "conclusion=pd.DataFrame([loaded_model.predict(features_test)[:],pred_decision[:]],index=[\"Predicted\",\"Orginal\"])"
   ]
  },
  {
   "cell_type": "code",
   "execution_count": 68,
   "id": "2deab17d",
   "metadata": {},
   "outputs": [
    {
     "data": {
      "text/html": [
       "<div>\n",
       "<style scoped>\n",
       "    .dataframe tbody tr th:only-of-type {\n",
       "        vertical-align: middle;\n",
       "    }\n",
       "\n",
       "    .dataframe tbody tr th {\n",
       "        vertical-align: top;\n",
       "    }\n",
       "\n",
       "    .dataframe thead th {\n",
       "        text-align: right;\n",
       "    }\n",
       "</style>\n",
       "<table border=\"1\" class=\"dataframe\">\n",
       "  <thead>\n",
       "    <tr style=\"text-align: right;\">\n",
       "      <th></th>\n",
       "      <th>0</th>\n",
       "      <th>1</th>\n",
       "      <th>2</th>\n",
       "      <th>3</th>\n",
       "      <th>4</th>\n",
       "      <th>5</th>\n",
       "      <th>6</th>\n",
       "      <th>7</th>\n",
       "      <th>8</th>\n",
       "      <th>9</th>\n",
       "      <th>...</th>\n",
       "      <th>22</th>\n",
       "      <th>23</th>\n",
       "      <th>24</th>\n",
       "      <th>25</th>\n",
       "      <th>26</th>\n",
       "      <th>27</th>\n",
       "      <th>28</th>\n",
       "      <th>29</th>\n",
       "      <th>30</th>\n",
       "      <th>31</th>\n",
       "    </tr>\n",
       "  </thead>\n",
       "  <tbody>\n",
       "    <tr>\n",
       "      <th>Predicted</th>\n",
       "      <td>5.09191</td>\n",
       "      <td>4.50701</td>\n",
       "      <td>5.99104</td>\n",
       "      <td>3.91301</td>\n",
       "      <td>6.50012</td>\n",
       "      <td>6.80804</td>\n",
       "      <td>3.5596</td>\n",
       "      <td>3.86763</td>\n",
       "      <td>5.06943</td>\n",
       "      <td>4.67224</td>\n",
       "      <td>...</td>\n",
       "      <td>5.65081</td>\n",
       "      <td>6.28854</td>\n",
       "      <td>7.39158</td>\n",
       "      <td>7.3448</td>\n",
       "      <td>5.78035</td>\n",
       "      <td>7.46112</td>\n",
       "      <td>3.62704</td>\n",
       "      <td>5.0157</td>\n",
       "      <td>5.74805</td>\n",
       "      <td>7.23787</td>\n",
       "    </tr>\n",
       "    <tr>\n",
       "      <th>Orginal</th>\n",
       "      <td>5.09191</td>\n",
       "      <td>4.50701</td>\n",
       "      <td>5.99104</td>\n",
       "      <td>3.91301</td>\n",
       "      <td>6.50012</td>\n",
       "      <td>6.80804</td>\n",
       "      <td>3.5596</td>\n",
       "      <td>3.86763</td>\n",
       "      <td>5.06943</td>\n",
       "      <td>4.67224</td>\n",
       "      <td>...</td>\n",
       "      <td>5.65081</td>\n",
       "      <td>6.28854</td>\n",
       "      <td>7.39158</td>\n",
       "      <td>7.3448</td>\n",
       "      <td>5.78035</td>\n",
       "      <td>7.46112</td>\n",
       "      <td>3.62704</td>\n",
       "      <td>5.0157</td>\n",
       "      <td>5.74805</td>\n",
       "      <td>7.23787</td>\n",
       "    </tr>\n",
       "  </tbody>\n",
       "</table>\n",
       "<p>2 rows × 32 columns</p>\n",
       "</div>"
      ],
      "text/plain": [
       "                0        1        2        3        4        5       6   \\\n",
       "Predicted  5.09191  4.50701  5.99104  3.91301  6.50012  6.80804  3.5596   \n",
       "Orginal    5.09191  4.50701  5.99104  3.91301  6.50012  6.80804  3.5596   \n",
       "\n",
       "                7        8        9   ...       22       23       24      25  \\\n",
       "Predicted  3.86763  5.06943  4.67224  ...  5.65081  6.28854  7.39158  7.3448   \n",
       "Orginal    3.86763  5.06943  4.67224  ...  5.65081  6.28854  7.39158  7.3448   \n",
       "\n",
       "                26       27       28      29       30       31  \n",
       "Predicted  5.78035  7.46112  3.62704  5.0157  5.74805  7.23787  \n",
       "Orginal    5.78035  7.46112  3.62704  5.0157  5.74805  7.23787  \n",
       "\n",
       "[2 rows x 32 columns]"
      ]
     },
     "execution_count": 68,
     "metadata": {},
     "output_type": "execute_result"
    }
   ],
   "source": [
    "conclusion"
   ]
  },
  {
   "cell_type": "code",
   "execution_count": null,
   "id": "0759bce4",
   "metadata": {},
   "outputs": [],
   "source": []
  },
  {
   "cell_type": "code",
   "execution_count": null,
   "id": "3f2abc4a",
   "metadata": {},
   "outputs": [],
   "source": []
  },
  {
   "cell_type": "code",
   "execution_count": null,
   "id": "d63d580d",
   "metadata": {},
   "outputs": [],
   "source": []
  },
  {
   "cell_type": "code",
   "execution_count": null,
   "id": "2131df5a",
   "metadata": {},
   "outputs": [],
   "source": []
  },
  {
   "cell_type": "code",
   "execution_count": null,
   "id": "83473438",
   "metadata": {},
   "outputs": [],
   "source": []
  },
  {
   "cell_type": "code",
   "execution_count": null,
   "id": "7259758d",
   "metadata": {},
   "outputs": [],
   "source": []
  }
 ],
 "metadata": {
  "kernelspec": {
   "display_name": "Python 3",
   "language": "python",
   "name": "python3"
  },
  "language_info": {
   "codemirror_mode": {
    "name": "ipython",
    "version": 3
   },
   "file_extension": ".py",
   "mimetype": "text/x-python",
   "name": "python",
   "nbconvert_exporter": "python",
   "pygments_lexer": "ipython3",
   "version": "3.8.8"
  }
 },
 "nbformat": 4,
 "nbformat_minor": 5
}
